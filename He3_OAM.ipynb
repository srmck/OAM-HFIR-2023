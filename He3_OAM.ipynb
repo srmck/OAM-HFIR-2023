{
 "cells": [
  {
   "cell_type": "markdown",
   "id": "484a672c",
   "metadata": {},
   "source": [
    "# OAM 3He Experiment:\n",
    "***\n",
    "\n",
    "This notebook describes the neutron 3He OAM absorption experiment that took place in July-August 2023 at HFIR. Ultimately, there was no observable difference in absorption with and without the polarized 3He, although there were a few issues with the experiment:\n",
    "\n",
    "1. We used a 2D integrating detector, so many OAM modes were measured\n",
    "2. The MWPs were in SESANS mode, so the signal was reduced due to beam coherence"
   ]
  },
  {
   "cell_type": "markdown",
   "id": "7db3d46e-8ca2-4de9-81be-819a3eadbb32",
   "metadata": {
    "jp-MarkdownHeadingCollapsed": true,
    "tags": []
   },
   "source": [
    "## Constants and functions"
   ]
  },
  {
   "cell_type": "code",
   "execution_count": 1,
   "id": "56536eb7",
   "metadata": {},
   "outputs": [
    {
     "name": "stdout",
     "output_type": "stream",
     "text": [
      "Larmor constant = -4.632e+14\n"
     ]
    }
   ],
   "source": [
    "import numpy as np\n",
    "import sympy as sym\n",
    "import scipy as sc\n",
    "import matplotlib.pyplot as plt\n",
    "from matplotlib import cm\n",
    "import mcstasscript as ms\n",
    "import scienceplots\n",
    "import time, math, os, csv\n",
    "from scipy.optimize import curve_fit\n",
    "from scipy.signal import hilbert,convolve,find_peaks,savgol_filter\n",
    "from scipy.fft import fft,fftfreq,ifft\n",
    "from scipy.integrate import quad,simpson\n",
    "from scipy.interpolate import CubicSpline\n",
    "from matplotlib.animation import FuncAnimation, PillowWriter\n",
    "from itertools import islice,chain,product\n",
    "from sympy.physics.quantum.cg import *\n",
    "\n",
    "plt.style.use(['science', 'notebook', 'grid', 'default', 'bright'])\n",
    "plot_height = 8\n",
    "plot_width = plot_height*1.618\n",
    "\n",
    "#np.set_printoptions(suppress=False,precision=5)\n",
    "np.set_printoptions(suppress=True)\n",
    "\n",
    "SMALL_SIZE,MEDIUM_SIZE,BIGGER_SIZE = 15,20,25\n",
    "plt.rc('font', size=SMALL_SIZE)          # controls default text sizes\n",
    "plt.rc('axes', titlesize=SMALL_SIZE)     # fontsize of the axes title\n",
    "plt.rc('axes', labelsize=MEDIUM_SIZE)    # fontsize of the x and y labels\n",
    "plt.rc('xtick', labelsize=SMALL_SIZE)    # fontsize of the tick labels\n",
    "plt.rc('ytick', labelsize=SMALL_SIZE)    # fontsize of the tick labels\n",
    "plt.rc('legend', fontsize=SMALL_SIZE)    # legend fontsize\n",
    "plt.rc('figure', titlesize=BIGGER_SIZE)  # fontsize of the figure title\n",
    "plt.rc('axes', titlesize=BIGGER_SIZE)    # actually gets title font size (glitch in matplotlib?)\n",
    "#plt.rcParams.update({'axes.grid':True})\n",
    "\n",
    "plt.rc('text', usetex=False)\n",
    "if False: #Additions to latex preamble for matplotlib:\n",
    "    plt.rc('text', usetex=True)\n",
    "    plt.rc('text.latex', preamble=r'\\usepackage{amsmath,amsthm,amssymb,amsfonts,braket,siunitx}')\n",
    "    plt.rcParams[\"font.family\"] = \"Computer Modern Roman\"\n",
    "    sym.init_printing()\n",
    "\n",
    "gN = -1.832471e8    #gyromagnetic ratio of neutron (rad/T/m^2)\n",
    "mN = 1.674927e-27    #mass of neutron (kg)\n",
    "hbar = 1.054571e-34    #plancks constant (kg m^2/s)\n",
    "cL = gN/(hbar*2*np.pi)*mN*1e-10    #Larmor phase constant (T^-1 m^-1 AA^-1)\n",
    "print(f'Larmor constant = {round(cL*1e10,3):.3e}')"
   ]
  },
  {
   "cell_type": "code",
   "execution_count": null,
   "id": "ab06a319",
   "metadata": {},
   "outputs": [],
   "source": [
    "def get_sem(B1, L1, L2):\n",
    "    \"\"\"Returns focusing condition for prism in regular SEMSANS.\"\"\"\n",
    "    if L1 <= L2: raise ValueError('L1 > L2!')\n",
    "    B = [B1*L1/L2]\n",
    "    return bp.array(B)\n",
    "\n",
    "def shim_cos(x,amp,freq,phase,shim):\n",
    "    \"\"\"Returns linear frequency cosine with phase and offset.\"\"\"\n",
    "    return amp*np.cos(x*freq + phase) + shim\n",
    "\n",
    "def cos(x,amp,freq,phase):\n",
    "    \"\"\"Returns linear frequency cosine with phase.\"\"\"\n",
    "    return amp*np.cos(x*freq + phase)\n",
    "\n",
    "def get_flip(gpa,lam,dist,flip=np.pi):\n",
    "    \"\"\"Current for pi or pi/2 flip.\"\"\"\n",
    "    return round(flip/(1e-4*gpa*cL*lam*dist*1e-2),2)\n",
    "\n",
    "def get_sec(sel=100,sep=.11,lam=4.25,gpa=30):\n",
    "    \"\"\"Current for given spin echo length (nm) for MWP.\"\"\"\n",
    "    return round(abs(np.pi*sel*1e-9/(1e-10*(lam)**2*cL*gpa*1e-4*sep)),2)\n",
    "\n",
    "def frp_convert(value,show=False):\n",
    "    \"\"\"Convert polarization to flipping ratio and vice-versa.\"\"\"\n",
    "    if value == 1: raise Exception('FR is infinite when polarization is unity!')\n",
    "    if value > 1:\n",
    "        result = (value - 1)/(value + 1)\n",
    "        something = f'FR: {round(value,3)} \\n Pol: {round(result*100,1)}%'\n",
    "    else:\n",
    "        result = (1 + value)/(1 - value)\n",
    "        something = f'FR: {round(result,3)} \\n Pol: {round(value*100,1)}%'\n",
    "    if show: print(something)\n",
    "    return result\n",
    "\n",
    "print(f'MWP current for 100nm: {get_sec(sel=100)} amps')\n",
    "print(f'Nutator pi/2 current: {get_flip(10,4.25,3,flip=np.pi/2)} amps')"
   ]
  },
  {
   "cell_type": "code",
   "execution_count": null,
   "id": "31a4b029-f2c6-4d0d-b158-3ceb10ce1dc5",
   "metadata": {},
   "outputs": [],
   "source": [
    "LAM = 4.25\n",
    "bulldog = {'length':9.,'pressure':1.47}  #cm and bar\n",
    "\n",
    "def get_n(pressure,temp=293,show=True):\n",
    "    \"\"\"Get number density from P=nkT.\"\"\"\n",
    "    boltzmann = 1.38e-23\n",
    "    result = 1e5*pressure/(boltzmann*temp)  #bar to Pa\n",
    "    if show: print(f'Number density: {result:.4e} \\n')\n",
    "    return result\n",
    "\n",
    "def get_T(cell,he_pol=1,spin_pol=1,OAM_pol=1,b_0=11851,b_1=0.,b_2=11851,OAM=True,show=True):\n",
    "    \"\"\"Caclulate the transmission through 3He cell. Cross sections given in barns.\"\"\"\n",
    "    assert abs(he_pol) <= 1 and abs(spin_pol) <= 1 and abs(OAM_pol) <= 1, 'Polarizations must be less than unity.'\n",
    "    density = get_n(cell['pressure'],show=False)\n",
    "    \n",
    "    if OAM:\n",
    "        sigma = b_2/24*(24 - 5*(1 - spin_pol*OAM_pol) - 4*(1 - spin_pol*he_pol) - 5*(1 - OAM_pol*he_pol)) \\\n",
    "        + b_1/24*(3*(1 - spin_pol*OAM_pol) + (6 - 4*np.sqrt(2))*(1 - spin_pol*he_pol) + (3 + 4*np.sqrt(2))*(1 - OAM_pol*he_pol)) \\\n",
    "        + b_0/12*(1 - spin_pol*OAM_pol + spin_pol*he_pol - OAM_pol*he_pol)\n",
    "    else:\n",
    "        sigma = 2963.*(1 - he_pol*spin_pol)  #no triplet contribution\n",
    "        \n",
    "    T = np.exp(-sigma*LAM*cell['length']*1e-2*(1e-28*density))\n",
    "    if show: \n",
    "        print(f'[3He,spin,oam] = {np.round((he_pol,spin_pol,OAM_pol),2)}')\n",
    "        print(f'Transmission: {T:.5}')\n",
    "        print(f'Total cross section: {sigma:.5} \\n')\n",
    "    return T\n",
    "\n",
    "def get_pol(up,down,show=True):\n",
    "    pol = (up-down)/(up+down)\n",
    "    if show: print(f'Polarization: {pol:.5}')\n",
    "    return pol\n",
    "\n",
    "get_n(bulldog['pressure']);\n",
    "\n",
    "_ = get_T(bulldog,he_pol=1,spin_pol=1,OAM_pol=0,OAM=True);\n",
    "_ = get_T(bulldog,he_pol=-1,spin_pol=1,OAM_pol=0,OAM=True);\n",
    "\n",
    "_ = get_T(bulldog,he_pol=1,spin_pol=1,OAM_pol=0,OAM=False);\n",
    "_ = get_T(bulldog,he_pol=-1,spin_pol=1,OAM_pol=0,OAM=False);"
   ]
  },
  {
   "cell_type": "code",
   "execution_count": null,
   "id": "fa83b188-efb3-4f86-a89f-85f637fbc9c8",
   "metadata": {
    "scrolled": true,
    "tags": []
   },
   "outputs": [],
   "source": [
    "def plot_diff(first,second,twoD=False,threeD=False,title=['','',''],sp_space=np.linspace(-1,1,200),oam_space=np.linspace(-1,1,200)):\n",
    "    \"\"\"Compares two models of the transmission.\"\"\"\n",
    "    if twoD:\n",
    "        fig,ax = plt.subplots(nrows=1,ncols=3,figsize=(20,6))\n",
    "\n",
    "        im1 = ax[0].imshow(first,extent=[sp_space[0],sp_space[-1],oam_space[0],oam_space[-1]],origin='lower')\n",
    "        ax[0].set_title(title[0])\n",
    "        plt.colorbar(im1,ax=ax[0],shrink=.5)\n",
    "\n",
    "        im2 = ax[1].imshow(second,extent=[sp_space[0],sp_space[-1],oam_space[0],oam_space[-1]],origin='lower')\n",
    "        ax[1].set_title(title[1])\n",
    "        plt.colorbar(im2,ax=ax[1],shrink=.5)\n",
    "\n",
    "        ax[2].set_title('Difference')\n",
    "        im3 = ax[2].imshow(first-second,extent=[sp_space[0],sp_space[-1],oam_space[0],oam_space[-1]],origin='lower')\n",
    "        plt.colorbar(im3,ax=ax[2],shrink=.5)\n",
    "\n",
    "        fig.supxlabel('Pol')\n",
    "        fig.supylabel('OAM')\n",
    "        plt.suptitle(title[2])\n",
    "        plt.tight_layout()\n",
    "        plt.show()\n",
    "    \n",
    "    if threeD:\n",
    "        fig = plt.figure(figsize=(20,6))\n",
    "        ax1 = fig.add_subplot(1,3,1,projection='3d')\n",
    "        SP,OM = np.meshgrid(sp_space,oam_space)\n",
    "        im1 = ax1.plot_surface(SP,OM,first,cmap=cm.coolwarm)\n",
    "        ax1.set_title(title[0])\n",
    "        ax1.set_xlabel('Pol')\n",
    "        ax1.set_ylabel('OAM')\n",
    "        plt.colorbar(im1,ax=ax1,shrink=.4)\n",
    "        #ax1.view_init(azim=0)\n",
    "\n",
    "        ax2 = fig.add_subplot(1,3,2,projection='3d')\n",
    "        SP,OM = np.meshgrid(sp_space,oam_space)\n",
    "        im2 = ax2.plot_surface(SP,OM,second,cmap=cm.coolwarm)\n",
    "        ax2.set_title(title[1])\n",
    "        ax2.set_xlabel('Pol')\n",
    "        ax2.set_ylabel('OAM')\n",
    "        plt.colorbar(im2,ax=ax2,shrink=.4)\n",
    "        #ax2.view_init(azim=-120)\n",
    "\n",
    "        ax3 = fig.add_subplot(1,3,3,projection='3d')\n",
    "        SP,OM = np.meshgrid(sp_space,oam_space)\n",
    "        im3 = ax3.plot_surface(SP,OM,first-second,cmap=cm.coolwarm)\n",
    "        ax3.set_title('Difference')\n",
    "        ax3.set_xlabel('Pol')\n",
    "        ax3.set_ylabel('OAM')\n",
    "        plt.colorbar(im3,ax=ax3,shrink=.4)\n",
    "        #ax3.view_init(azim=60)\n",
    "        \n",
    "        plt.suptitle(title[2])\n",
    "        plt.tight_layout()\n",
    "        plt.show()\n",
    "\n",
    "sp_space=np.linspace(-1,1,200)\n",
    "oam_space=np.linspace(-1,1,200)\n",
    "\n",
    "trans_OAM = np.empty((200,200))\n",
    "for o in range(200):\n",
    "    for s in range(200):\n",
    "        trans_OAM[o,s] = get_T(bulldog,spin_pol=sp_space[s],OAM_pol=oam_space[o],show=False)\n",
    "        \n",
    "b2_only = np.empty((200,200))\n",
    "for o in range(200):\n",
    "    for s in range(200):\n",
    "        b2_only[o,s] = get_T(bulldog,spin_pol=sp_space[s],OAM_pol=oam_space[o],show=False,b_0=0,he_pol=1)\n",
    "        \n",
    "b0_only = np.empty((200,200))\n",
    "for o in range(200):\n",
    "    for s in range(200):\n",
    "        b0_only[o,s] = get_T(bulldog,spin_pol=sp_space[s],OAM_pol=oam_space[o],show=False,b_2=0,he_pol=1)\n",
    "    \n",
    "trans = np.empty((200,200))\n",
    "for o in range(200):\n",
    "    for s in range(200):\n",
    "        trans[o,s] = get_T(bulldog,spin_pol=sp_space[s],OAM_pol=oam_space[o],show=False,OAM=False)\n",
    "        \n",
    "#plot_diff(trans_OAM,trans,twoD=True,threeD=True,title=['OAM','No OAM','Transmission Theory'],sp_space=sp_space,oam_space=oam_space)\n",
    "plot_diff(b2_only,b0_only,twoD=True,threeD=True,title=['b_2 only','b0_only','Transmission Theory'],sp_space=sp_space,oam_space=oam_space)"
   ]
  },
  {
   "cell_type": "markdown",
   "id": "992d7436-0d04-4ea8-9fcc-e072c9a5b04b",
   "metadata": {
    "jp-MarkdownHeadingCollapsed": true,
    "tags": []
   },
   "source": [
    "## Wavefunction analysis"
   ]
  },
  {
   "cell_type": "code",
   "execution_count": null,
   "id": "b646b11e-cd41-4031-a3d6-3269b1557f38",
   "metadata": {},
   "outputs": [],
   "source": [
    "sym.init_printing()\n",
    "pp,pm,mp,mm = sym.symbols(r'\\psi_{++},\\psi_{+-},\\psi_{-+},\\psi_{--}',real=True)\n",
    "\n",
    "idt,spx,spy,spz = sym.eye(2),sym.Matrix([[0,1],[1,0]]),sym.Matrix([[0,-sym.I],[sym.I,0]]),sym.Matrix([[1,0],[0,-1]])\n",
    "xp,xm = sym.Rational(1,2)*sym.Matrix([[1,1],[1,1]]),sym.Rational(1,2)*sym.Matrix([[1,-1],[-1,1]])\n",
    "yp,ym = sym.Rational(1,2)*sym.Matrix([[1,-1*-1*sym.I],[-1*sym.I,1]]),sym.Rational(1,2)*sym.Matrix([[1,-1*sym.I],[-1*-1*sym.I,1]])\n",
    "zp,zm = sym.Matrix([[1,0],[0,0]]),sym.Rational(1,2)*sym.Matrix([[0,0],[0,1]])\n",
    "\n",
    "def rot(alpha,n):\n",
    "    \"\"\"Returns rotation matrix about n (must be normalized) given an angle alpha.\"\"\"\n",
    "    return sym.cos(alpha/2)*idt - sym.I*sym.sin(alpha/2)*(spx*n[0] + spy*n[1] + spz*n[2])\n",
    "\n",
    "def measure(psi,oper,print=False):\n",
    "    \"\"\"Gets expectation from given wavefunction and operator.\"\"\"\n",
    "    result = sym.transpose(psi.applyfunc(sym.conjugate))*(oper*psi)\n",
    "    result = result.applyfunc(sym.expand)\n",
    "    result = result.applyfunc(sym.simplify)\n",
    "    if print: display(result)\n",
    "    return result\n",
    "\n",
    "wf_0 = 1/sym.sqrt(2)*sym.Matrix([[pp - sym.I*pm],[mp + sym.I*mm]])\n",
    "wf_0 = wf_0.applyfunc(sym.simplify)\n",
    "display(wf_0)\n",
    "\n",
    "wf_1 = rot(sym.pi/2,(1,0,0))*wf_0\n",
    "wf_1 = wf_1.applyfunc(sym.simplify)\n",
    "display(wf_1)\n",
    "\n",
    "wf_2 = measure(wf_1,xp,print=True)\n",
    "_ = measure(wf_1,xm,print=True)\n",
    "_ = measure(wf_1,spx,print=True)\n",
    "_ = measure(wf_1,spy,print=True)\n",
    "_ = measure(wf_1,spz,print=True)"
   ]
  },
  {
   "cell_type": "markdown",
   "id": "e365dbe4-51a6-4c9b-827d-bfb4bdb40324",
   "metadata": {},
   "source": [
    "## Cross section calculation\n",
    "\n",
    "1. 3He spin + neutron spin: 1/2 + 1/2 (no OAM)\n",
    "2. Neutron spin + neutron OAM + 3He spin: (1/2 + 1) + 1/2\n",
    "3. General case: (1/2 + L) + 1/2 for integer L"
   ]
  },
  {
   "cell_type": "code",
   "execution_count": 81,
   "id": "921ad0dc-f095-4628-a9ba-9193400715fc",
   "metadata": {},
   "outputs": [],
   "source": [
    "j_ns = [1/2]\n",
    "j_hs = [1/2]\n",
    "j_l = [1,0]\n",
    "\n",
    "def get_cb(j1,j2,show=False):\n",
    "    '''Returns all non-zero Clebsch–Gordan coefficients.'''\n",
    "    j3_max = np.max(j1) + np.max(j2)\n",
    "    j3_min = max(np.max(j1),np.max(j2)) - min(np.max(j1),np.max(j2))\n",
    "    j3 = [i for i in np.arange(j3_min,j3_max+1,1)]\n",
    "    m1,m2,m3 = [sorted(list(set([-i for i in j]+j))) for j in (j1,j2,j3)]\n",
    "    #print(m1,m2,m3)\n",
    "    cg = []\n",
    "    J = list(product([np.max(j1)],m1,[np.max(j2)],m2,j3,m3))\n",
    "    for js in J:\n",
    "        temp = float(CG(*js).doit())\n",
    "        if temp != 0:\n",
    "            cg.append(temp)\n",
    "            if show:\n",
    "                print(js)\n",
    "                print(float(cg[-1]))\n",
    "    return list(zip(cg,J))"
   ]
  },
  {
   "cell_type": "code",
   "execution_count": 86,
   "id": "af45f8c2-c6a9-4cf1-b975-1131a0726238",
   "metadata": {},
   "outputs": [
    {
     "name": "stdout",
     "output_type": "stream",
     "text": [
      "(0.5, -0.5, 0.5, -0.5, 1.0, -1.0)\n",
      "1.0\n",
      "(0.5, -0.5, 0.5, 0.5, 0.0, -0.0)\n",
      "-0.7071067811865476\n",
      "(0.5, -0.5, 0.5, 0.5, 1.0, -0.0)\n",
      "0.7071067811865475\n",
      "(0.5, 0.5, 0.5, -0.5, 0.0, -0.0)\n",
      "0.7071067811865476\n",
      "(0.5, 0.5, 0.5, -0.5, 1.0, -0.0)\n",
      "0.7071067811865475\n",
      "(0.5, 0.5, 0.5, 0.5, 1.0, 1.0)\n",
      "1.0\n"
     ]
    }
   ],
   "source": [
    "_ = get_cb(j_ns,j_hs,show=True)"
   ]
  },
  {
   "cell_type": "code",
   "execution_count": 87,
   "id": "760ca533-9f40-432c-8691-d5eaebbb52ac",
   "metadata": {},
   "outputs": [
    {
     "name": "stdout",
     "output_type": "stream",
     "text": [
      "(0.5, -0.5, 1, -1, 1.5, -1.5)\n",
      "1.0\n",
      "(0.5, -0.5, 1, 0, 0.5, -0.5)\n",
      "-0.5773502691896257\n",
      "(0.5, -0.5, 1, 0, 1.5, -0.5)\n",
      "0.816496580927726\n",
      "(0.5, -0.5, 1, 1, 0.5, 0.5)\n",
      "-0.816496580927726\n",
      "(0.5, -0.5, 1, 1, 1.5, 0.5)\n",
      "0.5773502691896257\n",
      "(0.5, 0.5, 1, -1, 0.5, -0.5)\n",
      "0.816496580927726\n",
      "(0.5, 0.5, 1, -1, 1.5, -0.5)\n",
      "0.5773502691896257\n",
      "(0.5, 0.5, 1, 0, 0.5, 0.5)\n",
      "0.5773502691896257\n",
      "(0.5, 0.5, 1, 0, 1.5, 0.5)\n",
      "0.816496580927726\n",
      "(0.5, 0.5, 1, 1, 1.5, 1.5)\n",
      "1.0\n"
     ]
    }
   ],
   "source": [
    "ntot = get_cb(j_ns,j_l,show=True)"
   ]
  },
  {
   "cell_type": "code",
   "execution_count": null,
   "id": "6edabffa-8927-4408-870b-c29b971fce88",
   "metadata": {},
   "outputs": [],
   "source": []
  },
  {
   "cell_type": "code",
   "execution_count": null,
   "id": "70e63187-79c2-44dc-853e-5e46df33043c",
   "metadata": {},
   "outputs": [],
   "source": []
  },
  {
   "cell_type": "code",
   "execution_count": null,
   "id": "819868ce-faf4-4722-a103-ab17bcec6d5c",
   "metadata": {},
   "outputs": [],
   "source": []
  },
  {
   "cell_type": "markdown",
   "id": "e034eb35-f1d4-440a-8d42-a9b0bd5903bb",
   "metadata": {
    "jp-MarkdownHeadingCollapsed": true,
    "tags": []
   },
   "source": [
    "## Building the beamline"
   ]
  },
  {
   "cell_type": "code",
   "execution_count": null,
   "id": "2555c8e8",
   "metadata": {
    "scrolled": true
   },
   "outputs": [],
   "source": [
    "lambda0 = 4.25  #Mean wavelength (AA)\n",
    "dlambda = lambda0*1/100\n",
    "\n",
    "ap_width = 10.\n",
    "ap_height = 10.\n",
    "\n",
    "MWP_str = 6e-3  #MWP field strength (T/Amp)\n",
    "NU_str = 1e-3\n",
    "CRYO_str = 1e-3\n",
    "\n",
    "MWP_dims = [.02,.02,.11]\n",
    "NU_dims = [.03,.03,.03]\n",
    "CRYO_dims = [.03,.03,.015]\n",
    "\n",
    "MWP_sep = .006\n",
    "NU_sep = .0125 + .015\n",
    "CYRO_sep = .006\n",
    "\n",
    "N1 = .15\n",
    "C1 = N1 + NU_dims[2] + NU_sep\n",
    "d1 = C1 + CRYO_dims[2] + CYRO_sep\n",
    "d2 = d1 + MWP_dims[2] + MWP_sep\n",
    "N2 = d2 + MWP_dims[2] + NU_sep\n",
    "d3 = N2 + NU_dims[2] + NU_sep\n",
    "d4 = d3 + MWP_dims[2] + MWP_sep\n",
    "C2 = d4 + MWP_dims[2] + CYRO_sep\n",
    "N3 = C2 + CRYO_dims[2] + NU_sep\n",
    "det1 = N3 + NU_dims[2] + .15    #distance from sample position to detector1 (m)\n",
    "ds = det1 + .3\n",
    "det2 = ds + .6  #must be shorter than 3 meters\n",
    "d = [N1,C1,d1,d2,N2,d3,d4,C2,N3,det1,ds,det2]\n",
    "\n",
    "print(MWP_dims[2]*2+MWP_sep+CYRO_sep+CRYO_dims[2]+2*NU_sep)\n",
    "\n",
    "print(f'Wavelength: {lambda0} p/m {round(dlambda,3)}')\n",
    "print(f'Aperture (mm) = {ap_width,ap_height}')\n",
    "print(f'Front distances from MWP to source (m): {np.round(d,3)}')\n",
    "\n",
    "cur = get_sec(sel=100)\n",
    "print(f'MWP currents: {cur}')\n",
    "\n",
    "pol_dir = [1,0,0]    #direction of polarizer (x,y,z)\n",
    "pol_dir = [i/np.sqrt(sum([j**2 for j in pol_dir])) for i in pol_dir]    \n",
    "print('Polarizer axis: ', [round(i,3) for i in pol_dir])\n",
    "\n",
    "det_x,det_y = 10.,10.\n",
    "det_bins = 128\n",
    "\n",
    "print(f'Detector size (mm): {np.round([det_x,det_y],3)}')\n",
    "print('[x,y] bin size (mm) = ', [round(i,3) for i in [det_x/det_bins,det_y/det_bins]], '\\n')\n",
    "\n",
    "print(\"-\"*80)     #Start of instrument definition\n",
    "OAM = ms.McStas_instr('OAM', author = 'Sam McKay', origin = 'Indiana University')\n",
    "delta_lambda = OAM.add_parameter(\"double\", \"delta_lambda\", value = dlambda, comment=\"Wavelength spread [AA]\")\n",
    "low_count = OAM.add_parameter(\"int\", \"low_count\", value = 0, comment=\"if true flips analyzer direction [N/A]\")\n",
    "all_off = OAM.add_parameter(\"int\", \"all_off\", value = 0, comment=\"if true turns off all MWPs [N/A]\")\n",
    "cur1 = OAM.add_parameter(\"double\", \"cur1\", value = cur, comment=\"MWP1 current [Amps]\")\n",
    "cur2 = OAM.add_parameter(\"double\", \"cur2\", value = -cur, comment=\"MWP2 current [Amps]\")\n",
    "cur3 = OAM.add_parameter(\"double\", \"cur3\", value = cur, comment=\"MWP3 current [Amps]\")\n",
    "cur4 = OAM.add_parameter(\"double\", \"cur4\", value = -cur, comment=\"MWP4 current [Amps]\")\n",
    "polx = OAM.add_parameter(\"double\", \"polx\", value = pol_dir[0], comment=\"x-component of polarizer [N/A]\")\n",
    "poly = OAM.add_parameter(\"double\", \"poly\", value = pol_dir[1], comment=\"y-component of polarizer [N/A]\")\n",
    "polz = OAM.add_parameter(\"double\", \"polz\", value = pol_dir[2], comment=\"z-component of polarizer [N/A]\")\n",
    "OAM.show_parameters()\n",
    "\n",
    "print(\"-\"*80)    #Source and polarizer (collimation included via source parameters):\n",
    "OAM.add_component(\"origin\",\"Progress_bar\")\n",
    "OAM.add_component(\"arm\",\"Arm\", AT=[0,0,0], RELATIVE=\"origin\")\n",
    "\n",
    "src = OAM.add_component(\"src\",\"Source_sam\", AT=[0,0,0], RELATIVE=\"origin\")\n",
    "src.set_parameters(xwidth=ap_width*1e-3,yheight=ap_height*1e-3,I1=1e13,lambda0=lambda0,dlambda=\"delta_lambda\",\\\n",
    "                   focus_xw=det_x/1e3,focus_yh=det_y/1e3,x_offset=det_x_offset/1e3,dist=Ld)\n",
    "print(src)\n",
    "pol = OAM.add_component(\"pol\",\"Set_pol\", AT=[0,0,1e-6], RELATIVE=\"origin\")\n",
    "pol.set_parameters(px=\"polx\", py=\"poly\", pz=\"polz\")\n",
    "\n",
    "print(pol)\n",
    "\n",
    "print(\"-\"*80)    #First accelerator coil and nutator\n",
    "NU1 = OAM.add_component(\"NU1\",\"Pol_constBfield\", AT=[0,0,dists['CG']], RELATIVE=\"origin\")\n",
    "NU1.set_parameters(xwidth=CG_dim['x'], yheight=CG_dim['y'], zdepth=CG_dim['z'], \\\n",
    "                    B=\"BCG*(1-all_off)\")\n",
    "print(NU1)\n",
    "AC1 = OAM.add_component(\"AC1\",\"Pol_constBfield\", AT=[0,0,dists['CG']], RELATIVE=\"origin\")\n",
    "AC1.set_parameters(xwidth=CG_dim['x'], yheight=CG_dim['y'], zdepth=CG_dim['z'], \\\n",
    "                    B=\"BCG*(1-all_off)\")\n",
    "print(AC1)\n",
    "\n",
    "print(\"-\"*80)    #Magnetic Wollaston prisms:\n",
    "MWP1 = OAM.add_component(\"MWP1\",\"pol_MWP_FI_expansion_v2\", AT=[0,0,d[0]], RELATIVE=\"origin\")\n",
    "MWP1.set_parameters(xwidth=MWP_dims[0], yheight=MWP_dims[1], zdepth=MWP_dims[2], \\\n",
    "                    current=\"cur1*(1-all_off)\")\n",
    "MWP2 = OAM.add_component(\"MWP2\",\"pol_MWP_FI_expansion_v2\", AT=[0,0,d[1]], RELATIVE=\"origin\")\n",
    "MWP2.set_parameters(xwidth=MWP_dims[0], yheight=MWP_dims[1], zdepth=MWP_dims[2], \\\n",
    "                    current=\"cur2*(1-all_off)\")\n",
    "MWP3 = OAM.add_component(\"MWP3\",\"pol_MWP_FI_expansion_v2\", AT=[0,0,d[2]], RELATIVE=\"origin\")\n",
    "MWP3.set_parameters(xwidth=MWP_dims[0], yheight=MWP_dims[1], zdepth=MWP_dims[2], \\\n",
    "                    current=\"cur3*(1-all_off)\")\n",
    "MWP4 = OAM.add_component(\"MWP4\",\"pol_MWP_FI_expansion_v2\", AT=[0,0,d[3]], RELATIVE=\"origin\")\n",
    "MWP4.set_parameters(xwidth=MWP_dims[0], yheight=MWP_dims[1], zdepth=MWP_dims[2], \\\n",
    "                    current=\"cur4*(1-all_off)\")\n",
    "MWP1.set_ROTATED([0, 0, 0], RELATIVE=\"ABSOLUTE\")\n",
    "MWP2.set_ROTATED([0, 0, 0], RELATIVE=\"ABSOLUTE\")\n",
    "MWP3.set_ROTATED([0, 0, 90], RELATIVE=\"ABSOLUTE\")\n",
    "MWP4.set_ROTATED([0, 0, 90], RELATIVE=\"ABSOLUTE\")\n",
    "print(MWP1,'\\n', MWP2)\n",
    "print(MWP3, '\\n', MWP4)\n",
    "\n",
    "print(\"-\"*80)    #Second accelerator coil and nutator\n",
    "AC2 = OAM.add_component(\"AC2\",\"Pol_constBfield\", AT=[0,0,dists['CG']], RELATIVE=\"origin\")\n",
    "AC2.set_parameters(xwidth=CG_dim['x'], yheight=CG_dim['y'], zdepth=CG_dim['z'], \\\n",
    "                    B=\"BCG*(1-all_off)\")\n",
    "print(AC2)\n",
    "NU2 = OAM.add_component(\"NU2\",\"Pol_constBfield\", AT=[0,0,dists['CG']], RELATIVE=\"origin\")\n",
    "NU2.set_parameters(xwidth=CG_dim['x'], yheight=CG_dim['y'], zdepth=CG_dim['z'], \\\n",
    "                    B=\"BCG*(1-all_off)\")\n",
    "print(NU2)\n",
    "\n",
    "print(\"-\"*80)    #Detectors and sample:\n",
    "ana = OAM.add_component(\"ana\",\"PolAnalyser_ideal\", AT=[0, 0, Ld - (Ls + 2e-6)], RELATIVE=\"origin\")\n",
    "ana.set_parameters(mx=0, my=0, mz=\"polx*(1-2*low_count)\")\n",
    "ana.set_ROTATED([0, 0, 0], RELATIVE=\"ABSOLUTE\")\n",
    "print(ana)\n",
    "\n",
    "twoD_det = OAM.add_component(\"twoD_det\",\"PSD_monitor\", AT=[det_x_offset/1e3, 0, Ld + 2e-6], RELATIVE=\"origin\")\n",
    "twoD_det.set_parameters(nx=det_bins, ny=det_bins, filename=twoD_file, xwidth=det_x*1e-3, yheight=det_y*1e-3)\n",
    "print(twoD_det)\n",
    "\n",
    "print(\"-\"*80)    #Final instrument summary:\n",
    "OAM.show_components()"
   ]
  },
  {
   "cell_type": "markdown",
   "id": "4f7ee684-f87b-46f1-ae19-34cb290c9af5",
   "metadata": {
    "jp-MarkdownHeadingCollapsed": true,
    "tags": []
   },
   "source": [
    "## Simulation scans"
   ]
  },
  {
   "cell_type": "code",
   "execution_count": null,
   "id": "67844836",
   "metadata": {
    "scrolled": true
   },
   "outputs": [],
   "source": [
    "def do_run(ray_num, curs):\n",
    "    \"\"\"Runs the two necessary simulations to extract the polarization.\n",
    "    Returns high and low counts and errors and all used currents.\"\"\"\n",
    "    used_curs = []\n",
    "    hc_runs, hc_err = [[],[]]\n",
    "    lc_runs, lc_err = [[],[]]\n",
    "\n",
    "    for i in curs:\n",
    "        c1 = i\n",
    "        c2, c3, c4 = get_ch(i, L1, L2, L3, L4)\n",
    "        used_curs.append([c1,c2,c3,c4])\n",
    "        print('Currents = ', [round(i,3) for i in [c1,c2,c3,c4]])\n",
    "\n",
    "        OAM.settings(output_path='OAM_hc_'+str(round(c1,2)), ncount=ray_num)\n",
    "        low_count.value, all_off.value, cur1.value, cur2.value, cur3.value, cur4.value = 0, 0, c1, c2, c3, c4\n",
    "        OAM_hc = OAM.backengine()\n",
    "        hc_runs.append(OAM_hc[-1].Intensity)    #only LAST detector is returned\n",
    "        hc_err.append(OAM_hc[-1].Error)\n",
    "        ms.make_plot(OAM_hc)\n",
    "\n",
    "        OAM.settings(output_path='OAM_lc_'+str(round(c1,2)))\n",
    "        low_count.value = 1\n",
    "        OAM_lc = OAM.backengine()\n",
    "        lc_runs.append(OAM_lc[-1].Intensity)\n",
    "        lc_err.append(OAM_lc[-1].Error)\n",
    "        ms.make_plot(OAM_lc)\n",
    "        print('='*80, '\\n')\n",
    "    return used_curs, hc_runs, hc_err, lc_runs, lc_err\n",
    "        \n",
    "used_curs, hc_runs, hc_err, lc_runs, lc_err = do_run(1e7, [10,40])\n"
   ]
  },
  {
   "cell_type": "markdown",
   "id": "5d74ccee",
   "metadata": {
    "jp-MarkdownHeadingCollapsed": true,
    "tags": []
   },
   "source": [
    "## Simulation Analysis\n",
    "***"
   ]
  },
  {
   "cell_type": "code",
   "execution_count": null,
   "id": "b4f13d1a",
   "metadata": {},
   "outputs": [],
   "source": [
    "xpos = np.linspace(-det_x/2,det_x/2, num=det_bins, endpoint=True)\n",
    "fine_bins = 200\n",
    "finer_bins = 1000\n",
    "xpos_fine = np.linspace(xpos[0], xpos[-1], num=fine_bins, endpoint=True)\n",
    "xpos_finer = np.linspace(xpos[0], xpos[-1], num=finer_bins, endpoint=True)\n",
    "pols = np.array([np.zeros((det_bins,det_bins)) for i in range(len(hc_runs))])\n",
    "\n",
    "for i in range(len(used_curs)): #don't change this!\n",
    "    for j in range(det_bins):\n",
    "        for k in range(det_bins):\n",
    "            pols[i][j][k] = ((hc_runs[i][j][k] - lc_runs[i][j][k])\\\n",
    "                             /(hc_runs[i][j][k] + lc_runs[i][j][k]))\n",
    "                \n",
    "    fig = plt.figure(figsize=(plot_width,plot_height))\n",
    "    ax = plt.axes()\n",
    "    plt.title('Pol. with B1 ='+str(used_curs[i][0]))\n",
    "    plt.imshow(pols[i], origin='lower', vmin=-1, vmax=1, interpolation='none', cmap='bwr')\n",
    "    plt.xlabel('x [mm]')\n",
    "    plt.ylabel('y [mm]')\n",
    "    ax.set_xticks(np.linspace(0,det_bins-1,7))\n",
    "    ax.set_yticks(np.linspace(0,det_bins-1,7))\n",
    "    ax.set_xticklabels([round(i,1) for i in np.linspace(-det_x/2,det_x/2,7)])\n",
    "    ax.set_yticklabels([round(i,1) for i in np.linspace(-det_y/2,det_y/2,7)])\n",
    "    plt.colorbar()\n",
    "    plt.show()\n"
   ]
  },
  {
   "cell_type": "code",
   "execution_count": null,
   "id": "71f260c1",
   "metadata": {},
   "outputs": [],
   "source": [
    "x_mg, y_mg = np.meshgrid(xpos, xpos)\n",
    "def cb_theory(x,y,p):\n",
    "    \"\"\"Generates theorectical checkerboard spin-texture.\"\"\"\n",
    "    r_0 = p/(np.pi)\n",
    "    z = -2*np.cos(2*y/r_0)*np.cos(x/r_0)*np.sin(x/r_0)\n",
    "    return z\n",
    "\n",
    "def get_p(c):\n",
    "    \"\"\"Returns theorectical fringe period.\"\"\"\n",
    "    return abs(2*np.pi/(cL*lambda0*MWP_str*(c[0] + c[1])))*1e3\n",
    "cb_th = cb_theory(x_mg,y_mg,get_p(used_curs[-1]))\n",
    "\n",
    "plot_im, plot_3D = True, False\n",
    "\n",
    "if plot_im:\n",
    "    \"\"\"fig = plt.figure(figsize=(plot_width,plot_height))\n",
    "    ax = plt.axes()\n",
    "    plt.title('Theory')\n",
    "    plt.imshow(cb_th, origin='lower', vmin=-1, vmax=1,interpolation='none', cmap='bwr')\n",
    "    plt.colorbar()\n",
    "    plt.xlabel('x [mm]')\n",
    "    plt.ylabel('y [mm]')\n",
    "    ax.set_xticks(np.linspace(0,det_bins-1,7))\n",
    "    ax.set_yticks(np.linspace(0,det_bins-1,7))\n",
    "    ax.set_xticklabels([round(i,1) for i in np.linspace(-det_x/2,det_x/2,7)])\n",
    "    ax.set_yticklabels([round(i,1) for i in np.linspace(-det_y/2,det_y/2,7)])\n",
    "    plt.show()\"\"\"\n",
    "\n",
    "    fig = plt.figure(figsize=(plot_width,plot_height))\n",
    "    ax = plt.axes()\n",
    "    plt.title('McStas Simulated Polarization')\n",
    "    plt.imshow(pols[-1], origin='lower', vmin=-1, vmax=1, interpolation='none', cmap='bwr')\n",
    "    plt.colorbar()\n",
    "    plt.xlabel('x [mm]')\n",
    "    plt.ylabel('y [mm]')\n",
    "    ax.set_xticks(np.linspace(0,det_bins-1,7))\n",
    "    ax.set_yticks(np.linspace(0,det_bins-1,7))\n",
    "    ax.set_xticklabels([round(i,1) for i in np.linspace(-det_x/2,det_x/2,7)])\n",
    "    ax.set_yticklabels([round(i,1) for i in np.linspace(-det_y/2,det_y/2,7)])\n",
    "    #plt.axhline(y=63.5, linewidth=5, linestyle='--', color='green')\n",
    "    #plt.axvline(x=69.25, linewidth=5, linestyle='--', color='purple')\n",
    "    plt.show()\n",
    "\n",
    "    fig = plt.figure(figsize=(plot_width,plot_height))\n",
    "    ax = plt.axes()\n",
    "    plt.title('McStas Polarization Slices')\n",
    "    plt.plot(xpos, pols[-1][64,:], 'o', ms=15, color='green', zorder=10, markerfacecolor='none', markeredgewidth=5)\n",
    "    guess = [(np.max(pols[-1][64,:])-np.min(pols[-1][64,:]))/2.,2*np.pi/1,0,np.mean(pols[-1][64,:])]\n",
    "    fit, cov = sp.optimize.curve_fit(simple_cos, xpos, pols[-1][64,:], p0=guess)\n",
    "    plt.plot(xpos, simple_cos(xpos, *fit), '-', linewidth=6, color='green', label='Horizontal Fit')\n",
    "    \n",
    "    plt.plot(xpos, pols[-1][:,69], 'o', ms=15, color='purple', zorder=15, markerfacecolor='none', markeredgewidth=5)\n",
    "    guess = [(np.max(pols[-1][:,69])-np.min(pols[-1][:,69]))/2.,2*np.pi/1,0,np.mean(pols[-1][:,69])]\n",
    "    fit, cov = sp.optimize.curve_fit(simple_cos, xpos, pols[-1][:,69], p0=guess)\n",
    "    plt.plot(xpos, simple_cos(xpos, *fit), '-', linewidth=6, color='purple', label='Vertical Fit')\n",
    "    \n",
    "    plt.xlabel('x [mm]')\n",
    "    plt.ylabel('Polarization')\n",
    "    plt.legend(loc='lower left', framealpha=1).set_zorder(20)\n",
    "    plt.grid()\n",
    "    plt.show()\n",
    "    \n",
    "if plot_3D:\n",
    "    fig = plt.figure()\n",
    "    ax = plt.axes(projection='3d')\n",
    "    #ax.view_init(60, 35)\n",
    "    ax.contour3D(xpos,xpos,pols[0], 100, cmap='plasma')\n",
    "    plt.show()\n",
    "\n",
    "    fig = plt.figure()\n",
    "    ax = plt.axes(projection='3d')\n",
    "    ax.plot_surface(x_mg,y_mg,cb_th, rstride=1, cstride=1, cmap='plasma', edgecolor='none')\n",
    "    plt.show()\n"
   ]
  },
  {
   "cell_type": "code",
   "execution_count": null,
   "id": "0e5b5802",
   "metadata": {},
   "outputs": [],
   "source": [
    "fig = plt.figure(figsize=(plot_width,plot_height))\n",
    "ax = plt.axes()\n",
    "plt.title('Polarization vs position')\n",
    "plt.plot(xpos,pols[1,5,:], linewidth=5, label='McStas')\n",
    "plt.plot(xpos, -cb_theory(xpos,xpos[5],get_p(used_curs[1])), linewidth=5, label='Quantum')\n",
    "ax.set_ylim(-1,1)\n",
    "plt.legend()\n",
    "plt.grid()\n",
    "plt.show()\n",
    "\n",
    "fig = plt.figure(figsize=(plot_width,plot_height))\n",
    "ax = plt.axes()\n",
    "plt.title('Polarization vs position')\n",
    "plt.plot(xpos,pols[1,:,45], linewidth=5, label='McStas')\n",
    "plt.plot(xpos, -cb_theory(xpos[45],xpos,get_p(used_curs[1])), linewidth=5, label='Quantum')\n",
    "ax.set_ylim(-1,1)\n",
    "plt.legend()\n",
    "plt.grid()\n",
    "plt.show()\n"
   ]
  },
  {
   "cell_type": "markdown",
   "id": "0d79cd98-a006-4ad0-9286-1d30c708f6c0",
   "metadata": {
    "tags": []
   },
   "source": [
    "## Experiment Data Analysis:\n",
    "***"
   ]
  },
  {
   "cell_type": "code",
   "execution_count": null,
   "id": "e670aa92-04db-4b4b-bd9f-df6fcd214ad6",
   "metadata": {},
   "outputs": [],
   "source": [
    "def get_tr(mon,det,plot=True,title='',ac_range=[-2.5,2.5,-2.5,2.5],contrast=False):\n",
    "    \"\"\"Gets the normalized transmission.\"\"\"\n",
    "    if contrast:\n",
    "        mon = mon/np.mean(mon)\n",
    "        det = det/np.mean(det)\n",
    "        rT = det/mon\n",
    "    else: rT = det/mon/np.max(det/mon)\n",
    "    if plot:\n",
    "        fig,ax = plt.subplots(nrows=1,ncols=3,figsize=(20,7))\n",
    "        \n",
    "        ax[0].set_title('Monitor T')\n",
    "        im1 = ax[0].imshow(mon,extent=ac_range,origin='lower')\n",
    "        plt.colorbar(im1,ax=ax[0],shrink=.8)\n",
    "\n",
    "        ax[1].set_title('Detector T')\n",
    "        im2 = ax[1].imshow(det,extent=ac_range,origin='lower')\n",
    "        plt.colorbar(im2,ax=ax[1],shrink=.8)\n",
    "\n",
    "        ax[2].set_title('Relative T')\n",
    "        im3 = ax[2].imshow(rT,extent=ac_range,origin='lower')\n",
    "        plt.colorbar(im3,ax=ax[2],shrink=.8)\n",
    "        \n",
    "        fig.supxlabel('ac_2')\n",
    "        fig.supylabel('ac_1')\n",
    "        plt.suptitle(title)\n",
    "        plt.tight_layout()\n",
    "        plt.show()\n",
    "\n",
    "    return det/mon"
   ]
  },
  {
   "cell_type": "code",
   "execution_count": null,
   "id": "8eeaeef6-19e8-4cfd-9231-9971ceccc2be",
   "metadata": {},
   "outputs": [],
   "source": [
    "def get_pol(fr):\n",
    "    \"\"\"Converts flipping ratio to polarization.\"\"\"\n",
    "    return (fr - 1)/(1 + fr)\n",
    "\n",
    "def get_scan(number):\n",
    "    \"\"\"Returns the data file scan number in Spice format.\"\"\"\n",
    "    const = 3\n",
    "    if (number > 999):    #no leading zeros\n",
    "        zeros = 0\n",
    "    else:\n",
    "        if (number == 0):\n",
    "            zeros = const\n",
    "        else:\n",
    "            zeros = const - int(math.floor(math.log10(number)))\n",
    "    return '0'*zeros + str(number)\n",
    "\n",
    "default_order = ['det','det rate','mon rate','ac_1','ac_2','up_1','down_1','arm_2','detector','monitor','time','nu_1','nu_2','nu_3',\\\n",
    "                'rots','trans','sgl','sgu','stl','stu','a1','a2','focal_length','m1','m2','mfocus','cav_trans','s1','s2',\\\n",
    "                'q','h','k','l','ei','ef','e','nu_1_current','ac_1_current','prism_current','nu_2_current','ac_2_current','nu_3_current']\n",
    "\n",
    "default_order = ['det','det rate','mon rate','ac_1','ac_2','up_1','down_1','up_2','down_2','detector','monitor','time',\\\n",
    "                'rots','trans','sgl','sgu','stl','stu','a1','a2','focal_length','m1','m2','mfocus','cav_trans','s1','s2',\\\n",
    "                'q','h','k','l','ei','ef','e','nu_1_current','ac_1_current','prism_current','nu_2_current','ac_2_current','nu_3_current']\n",
    "\n",
    "default_order = ['det','det rate','mon rate','ac_1','ac_2','up_1','down_1','up_2','down_2','detector','monitor','time',\\\n",
    "                'cav_rot','cav_trans','sgl','sgu','stl','stu','a1','a2','focal_length','m1','m2','mfocus','cav_trans','s1','s2',\\\n",
    "                'q','h','k','l','ei','ef','e','nu_1_current','ac_1_current','prism_current','nu_2_current','ac_2_current','nu_3_current']\n",
    "\n",
    "\n",
    "default_dict = {i[1]:i[0] for i in enumerate(default_order)}\n",
    "\n",
    "useful_order = default_order[:12]\n",
    "useful_dict = {i[1]:i[0] for i in enumerate(useful_order)}\n",
    "\n",
    "def load_data(path, names, dest, write_data=False,overwrite=False,reorder=False):\n",
    "    \"\"\"Returns the list [scan number, scan date, scan time start, user input scan titles, matrix of data from scan].\n",
    "    Cuts out all of the worthless parameters that we can't remove from SPICE for some reason.\"\"\"\n",
    "    scan_nums,dates,times,scan_titles,parms,data =[[],[],[],[],[],[]]\n",
    "    for i in range(len(names)):\n",
    "        file = open(path + names[i])\n",
    "        lines = file.readlines()\n",
    "        lines = [i.replace('\\n','') for i in lines]    #removes new line characters\n",
    "        file.close()\n",
    "        \n",
    "        scan_nums.append(lines[0][2::])    #line number determined by Spice format\n",
    "        scan_nums[i] = scan_nums[i].split(' = ',)[1]\n",
    "        dates.append(lines[1][2::])\n",
    "        dates[i] = dates[i].split(' = ',)[1]\n",
    "        times.append(lines[2][2::])\n",
    "        times[i] = times[i].split(' = ',)[1]\n",
    "        scan_titles.append(lines[10][2::])\n",
    "        scan_titles[i] = scan_titles[i].split(' = ',)[1]\n",
    "        parms.append(lines[29][7::].split())\n",
    "        parms[i].append('det rate')\n",
    "        parms[i].append('mon rate')\n",
    "        data.append([j.split()[1::] for j in lines[30::] if (j[0] != '#')])    #assigns the data\n",
    "        data[i] = [[float(data[i][j][k]) for j in range(len(data[i]))] for k in range(len(data[i][0]))]#HERE'S THE BUG    #converts to float\n",
    "        data[i] = [list(j) for j in zip(*data[i])]    #transposes table\n",
    "        \n",
    "        time_normed_counts = [data[i][j][2]/data[i][j][1] if (data[i][j][1] != 0) else 0 for j in range(len((data[i])))]\n",
    "        for j in range(len(data[i])):\n",
    "            data[i][j].append(time_normed_counts[j])\n",
    "            \n",
    "        time_normed_counts2 = [data[i][j][3]/data[i][j][1] if (data[i][j][1] != 0) else 0 for j in range(len((data[i])))]\n",
    "        for j in range(len(data[i])):\n",
    "            data[i][j].append(time_normed_counts2[j])\n",
    "        \n",
    "        if (reorder and (parms[i] != default_order)):    #rearranges the columns to default_order\n",
    "            swap_i = []    #columns to swap\n",
    "            for j in range(len(parms[i])):\n",
    "                swap_i.append([j, default_dict[parms[i][j]]])\n",
    "\n",
    "            swaped_data = [ [0]*len(data[i][0]) for _ in range(len(data[i]))]    #matrix to hold swaped values\n",
    "            for j in range(len(data[i])):    #slow swapping method, may need some work...\n",
    "                for k in range(len(data[i][j])):\n",
    "                    for m in range(len(swap_i)):\n",
    "                        if (swap_i[m][1] == k):\n",
    "                            swaped_data[j][k] = data[i][j][m]\n",
    "                            parms[i][m] = default_order[swap_i[m][0]]    \n",
    "            data[i] = swaped_data\n",
    "            \n",
    "        #useful parameters are hardcoded here\n",
    "        try: data_out = np.array(data)[:,:,:12]\n",
    "        except:\n",
    "            print(f\"Error with scan {scan_nums[i]}\") \n",
    "            break\n",
    "        parms_out = parms[0][:12]\n",
    "        \n",
    "        if write_data:    #writes data to csv files\n",
    "            if overwrite: c_str = 'w'\n",
    "            else: c_str = 'x'    #Fails if the file already exists\n",
    "            \n",
    "            windows_fname = scan_titles[i]    #Cleans the Spice file names for Windows\n",
    "            invalid = '<>:\"/\\|?*'\n",
    "            for char in invalid:\n",
    "                windows_fname = windows_fname.replace(char,'')\n",
    "                \n",
    "            with open(dest_path + \"scan\" + str(scan_nums[i]) + \"_\" + windows_fname + \".csv\", c_str, newline='') as csv_file:\n",
    "                writer = csv.writer(csv_file)\n",
    "                writer.writerow([scan_titles[i]])\n",
    "                writer.writerow([dates[i]])\n",
    "                writer.writerow([times[i]])\n",
    "                writer.writerow(parms_out)\n",
    "                for j in range(len(data_out[i])):\n",
    "                    writer.writerow(data_out[i][j])\n",
    "                    \n",
    "    return scan_nums,dates,times,scan_titles,parms_out,data_out\n",
    "\n",
    "data_path = \"C://Users//samck//Desktop//SESANS_OAM_data//Datafiles\"\n",
    "dest_path = \"C://Users//samck//Desktop//SESANS_OAM_data//data_csv//\""
   ]
  },
  {
   "cell_type": "code",
   "execution_count": null,
   "id": "264a23eb-8608-40be-8aac-9b403458ed6d",
   "metadata": {},
   "outputs": [],
   "source": [
    "file_range = range(204,446)\n",
    "file_list = [\"/HB2D_exp0005_scan\" + get_scan(i) + \".dat\" for i in file_range]\n",
    "\n",
    "nums,*_,parms,data = load_data(data_path,file_list,dest_path,write_data=True,overwrite=True,reorder=True)"
   ]
  },
  {
   "cell_type": "markdown",
   "id": "77d9e7d8-1bb7-4cd5-be08-708d29220f0c",
   "metadata": {
    "tags": []
   },
   "source": [
    "### MWP 1 amp:"
   ]
  },
  {
   "cell_type": "code",
   "execution_count": null,
   "id": "91cdde6b-f9fa-4896-bdeb-7635848a59e8",
   "metadata": {
    "tags": []
   },
   "outputs": [],
   "source": [
    "p1_in = data[11:22:,:,2]\n",
    "p1_out = data[:11:,:,1]\n",
    "\n",
    "_ = get_tr(p1_in,p1_out)"
   ]
  },
  {
   "cell_type": "markdown",
   "id": "9d5cfe52-6958-4674-b7be-ef641cbb1a96",
   "metadata": {
    "jp-MarkdownHeadingCollapsed": true,
    "tags": []
   },
   "source": [
    "### MWP 3 amps:"
   ]
  },
  {
   "cell_type": "code",
   "execution_count": null,
   "id": "f975bbb1-2219-431b-a907-aaa8cf1df09b",
   "metadata": {
    "tags": []
   },
   "outputs": [],
   "source": [
    "p3_in = data[33:44:,:,2]\n",
    "p3_out = data[22:33:,:,1]\n",
    "\n",
    "_ = get_tr(p3_in,p3_out)"
   ]
  },
  {
   "cell_type": "markdown",
   "id": "96fdb231-88b2-45a2-be74-ac47ddc89e7c",
   "metadata": {
    "jp-MarkdownHeadingCollapsed": true,
    "tags": []
   },
   "source": [
    "### MWP 5 amps:"
   ]
  },
  {
   "cell_type": "code",
   "execution_count": null,
   "id": "edddb0ce-ee44-440c-9c00-ac6e27491049",
   "metadata": {
    "tags": []
   },
   "outputs": [],
   "source": [
    "p5_in = data[55:66:,:,2]\n",
    "p5_out = data[44:55:,:,1]\n",
    "\n",
    "_ = get_tr(p5_in,p5_out)"
   ]
  },
  {
   "cell_type": "markdown",
   "id": "5cb0a726-81cb-4ce0-ae65-91c9fed8bc03",
   "metadata": {
    "jp-MarkdownHeadingCollapsed": true,
    "tags": []
   },
   "source": [
    "### MWP 7 amps"
   ]
  },
  {
   "cell_type": "code",
   "execution_count": null,
   "id": "84d19647-c983-43e5-88ec-5e25ee80984f",
   "metadata": {
    "tags": []
   },
   "outputs": [],
   "source": [
    "p7_in = data[77:88:,:,2]\n",
    "p7_out = data[66:77:,:,1]\n",
    "\n",
    "_ = get_tr(p7_in,p7_out)"
   ]
  },
  {
   "cell_type": "markdown",
   "id": "960c98c5-9fc1-4c98-988d-99fbcbe5c15e",
   "metadata": {
    "jp-MarkdownHeadingCollapsed": true,
    "tags": []
   },
   "source": [
    "### MWP 9 amps"
   ]
  },
  {
   "cell_type": "code",
   "execution_count": null,
   "id": "80977671-2ed3-4736-9801-b8b38d25caf2",
   "metadata": {
    "tags": []
   },
   "outputs": [],
   "source": [
    "p9_in = np.sum([data[99+22*i:110+22*i:,:,2] for i in range(4)],axis=0)\n",
    "p9_out = np.sum([data[88+22*i:99+22*i:,:,1] for i in range(4)],axis=0)\n",
    "_ = get_tr(p9_in,p9_out)"
   ]
  },
  {
   "cell_type": "markdown",
   "id": "6295da98-36cc-41a7-80ee-e8a8641cd666",
   "metadata": {
    "jp-MarkdownHeadingCollapsed": true,
    "tags": []
   },
   "source": [
    "### MWP 10 amps:"
   ]
  },
  {
   "cell_type": "code",
   "execution_count": null,
   "id": "32ec058c-21e8-4142-8da9-260387f041a7",
   "metadata": {},
   "outputs": [],
   "source": [
    "p10_in = data[176:187:,:,2]\n",
    "p10_out = data[187:198:,:,1]\n",
    "_ = get_tr(p10_in,p10_out)"
   ]
  },
  {
   "cell_type": "code",
   "execution_count": null,
   "id": "b174011c-bb03-42db-a25d-e16d0dc3df76",
   "metadata": {},
   "outputs": [],
   "source": [
    "print(nums[198])"
   ]
  },
  {
   "cell_type": "markdown",
   "id": "9f41ef54-9a90-448e-9de2-534f464c5834",
   "metadata": {
    "jp-MarkdownHeadingCollapsed": true,
    "tags": []
   },
   "source": [
    "### MWP 12 amps:"
   ]
  },
  {
   "cell_type": "code",
   "execution_count": null,
   "id": "c9a44269-0c29-4773-bad6-6b72350b538c",
   "metadata": {},
   "outputs": [],
   "source": [
    "p12_in = data[198:209:,:,2]\n",
    "p12_out = data[209:198:,:,1]\n",
    "_ = get_tr(p12_in,p12_out)"
   ]
  },
  {
   "cell_type": "markdown",
   "id": "4c201448-1043-48ae-9286-b6730adbe39a",
   "metadata": {
    "jp-MarkdownHeadingCollapsed": true,
    "tags": []
   },
   "source": [
    "### 7/20: Rotated nutator_2:"
   ]
  },
  {
   "cell_type": "code",
   "execution_count": null,
   "id": "d95fe3a6-d739-49c3-96e7-de6190395dc3",
   "metadata": {},
   "outputs": [],
   "source": [
    "test_in = data[231:242:,:,2] \n",
    "test_out = data[220:231:,:,1]\n",
    "_ = get_tr(test_in,test_out)"
   ]
  },
  {
   "cell_type": "markdown",
   "id": "e41fcfd7-be8d-47da-8586-1493f74d7410",
   "metadata": {
    "jp-MarkdownHeadingCollapsed": true,
    "tags": []
   },
   "source": [
    "### 7/20 Overnight scan\n",
    "***"
   ]
  },
  {
   "cell_type": "markdown",
   "id": "e2e78f66-4106-4e79-ba3a-242116cbc60c",
   "metadata": {},
   "source": [
    "Went from a 25 by 25 mm slit to a 14 by 10 mm slit, rotated nu_2 by 90 degrees, and extended the accelerator coils to a 2 rotation range."
   ]
  },
  {
   "cell_type": "code",
   "execution_count": null,
   "id": "d66eaf13-6b72-4e37-994d-7e28fb9a1fa2",
   "metadata": {},
   "outputs": [],
   "source": [
    "file_range = range(446,572)\n",
    "file_list = [\"/HB2D_exp0005_scan\" + get_scan(i) + \".dat\" for i in file_range]\n",
    "\n",
    "nums,*_,parms,data = load_data(data_path,file_list,dest_path,write_data=True,overwrite=True,reorder=True)"
   ]
  },
  {
   "cell_type": "markdown",
   "id": "b539169f-70be-4acc-8311-14d51249ece2",
   "metadata": {},
   "source": [
    "#### MWP 1 amp"
   ]
  },
  {
   "cell_type": "code",
   "execution_count": null,
   "id": "af2d21d9-cf6b-465e-8de9-459a1efe5c9a",
   "metadata": {},
   "outputs": [],
   "source": [
    "start = 0\n",
    "p1_out = data[start+21:start+42:,:,1]\n",
    "p1_in = data[start:start+21:,:,2]\n",
    "_ = get_tr(p1_in,p1_out,title='MWP 1 amp')\n",
    "print(nums[start:start+42])"
   ]
  },
  {
   "cell_type": "code",
   "execution_count": null,
   "id": "92a8ef8e-62ed-400e-b951-4fa6fc9ffbd1",
   "metadata": {},
   "outputs": [],
   "source": [
    "start = 42\n",
    "p3_out = data[start+21:start+42:,:,1]\n",
    "p3_in = data[start:start+21:,:,2]\n",
    "_ = get_tr(p3_in,p3_out,title='MWP 3 amp')\n",
    "print(nums[start:start+42])"
   ]
  },
  {
   "cell_type": "code",
   "execution_count": null,
   "id": "97d054ff-4d46-45e1-91af-bbd15ff7db20",
   "metadata": {},
   "outputs": [],
   "source": [
    "start = 84\n",
    "p3_out = data[start+21:start+42:,:,1]\n",
    "p3_in = data[start:start+21:,:,2]\n",
    "_ = get_tr(p3_in,p3_out,title='MWP 5 amp')\n",
    "print(nums[start:start+42])"
   ]
  },
  {
   "cell_type": "code",
   "execution_count": null,
   "id": "a86d0321-b918-4f41-b575-0f002b9049f0",
   "metadata": {},
   "outputs": [],
   "source": []
  },
  {
   "cell_type": "markdown",
   "id": "4cf13cc1-6ea4-4d4b-9b12-be2e5b4503d9",
   "metadata": {
    "jp-MarkdownHeadingCollapsed": true,
    "tags": []
   },
   "source": [
    "### 7/22 Mega test with offset currents"
   ]
  },
  {
   "cell_type": "code",
   "execution_count": null,
   "id": "bda36eb3-181d-400e-8939-7fb208d463e1",
   "metadata": {},
   "outputs": [],
   "source": [
    "file_range = range(911,995)\n",
    "file_list = [\"/HB2D_exp0005_scan\" + get_scan(i) + \".dat\" for i in file_range]\n",
    "\n",
    "nums,*_,parms,data = load_data(data_path,file_list,dest_path,write_data=True,overwrite=True,reorder=True)"
   ]
  },
  {
   "cell_type": "code",
   "execution_count": null,
   "id": "2933dcdb-f1da-4d80-8493-58a603b0348e",
   "metadata": {},
   "outputs": [],
   "source": [
    "start = 0\n",
    "p_out = data[start+21:start+42:,:,1]\n",
    "p_in = data[start:start+21:,:,2]\n",
    "_ = get_tr(p_in,p_out,title='MWP 1/1.5 amp')\n",
    "print(nums[start:start+42])"
   ]
  },
  {
   "cell_type": "code",
   "execution_count": null,
   "id": "0692cc81-679d-4edd-aca2-dd1c5ccd0573",
   "metadata": {},
   "outputs": [],
   "source": [
    "start = 42\n",
    "p_out = data[start+21:start+42:,:,1]\n",
    "p_in = data[start:start+21:,:,2]\n",
    "_ = get_tr(p_in,p_out,title='MWP 2/2.5 amp')\n",
    "print(nums[start:start+42])"
   ]
  },
  {
   "cell_type": "code",
   "execution_count": null,
   "id": "957aee8e-0299-4b0a-80d7-efbf9aa05d7f",
   "metadata": {},
   "outputs": [],
   "source": []
  },
  {
   "cell_type": "markdown",
   "id": "0c19242e-7ffd-4313-a8b2-7c527c8d403c",
   "metadata": {
    "jp-MarkdownHeadingCollapsed": true,
    "tags": []
   },
   "source": [
    "### 7/23 Mega test 2 after warming up"
   ]
  },
  {
   "cell_type": "code",
   "execution_count": null,
   "id": "fd1038ed-5ca6-4486-bb6f-54918a7d7c3b",
   "metadata": {},
   "outputs": [],
   "source": [
    "file_range = range(1025,1107)\n",
    "file_list = [\"/HB2D_exp0005_scan\" + get_scan(i) + \".dat\" for i in file_range]\n",
    "\n",
    "nums,*_,parms,data = load_data(data_path,file_list,dest_path,write_data=True,overwrite=True,reorder=True)"
   ]
  },
  {
   "cell_type": "code",
   "execution_count": null,
   "id": "11660d53-85ba-463c-8d28-634d1a4b4ff0",
   "metadata": {},
   "outputs": [],
   "source": [
    "start = 0\n",
    "p_out = data[start+16:start+32:,:,1]\n",
    "p_in = data[start:start+16:,:,2]\n",
    "_ = get_tr(p_in,p_out,title='MWP 1/1.5 amp',ac_range=[-8.5,-1,-8.5,-1])\n",
    "print(nums[start:start+32])"
   ]
  },
  {
   "cell_type": "code",
   "execution_count": null,
   "id": "e33b4e9f-8469-4124-97bd-47f6add975ea",
   "metadata": {},
   "outputs": [],
   "source": [
    "start = 32\n",
    "p_out = data[start+16:start+32:,:,1]\n",
    "p_in = data[start:start+16:,:,2]\n",
    "_ = get_tr(p_in,p_out,title='MWP 2/2.5 amp',ac_range=[-8.5,-1,-8.5,-1])\n",
    "print(nums[start:start+32])"
   ]
  },
  {
   "cell_type": "code",
   "execution_count": null,
   "id": "f7607509-b176-4163-8032-6bb64beeb795",
   "metadata": {},
   "outputs": [],
   "source": [
    "plt.plot(np.linspace(0,16*8,16),np.mean(_,axis=1)/.045)\n",
    "plt.title('Decay of 3He overnight')\n",
    "plt.ylabel('Average transmission')\n",
    "plt.xlabel('Minutes')\n",
    "plt.grid()\n",
    "plt.show()"
   ]
  },
  {
   "cell_type": "markdown",
   "id": "a733207c-43df-4192-8274-ce1aedeeddd6",
   "metadata": {},
   "source": [
    "### 7/28 New setup scans"
   ]
  },
  {
   "cell_type": "markdown",
   "id": "de111997-c408-48a9-8bf0-b010966ea4a3",
   "metadata": {},
   "source": [
    "1. We put more slits in the beam (1 cm square) on each prism and before the monitor\n",
    "2. Replaced s-bender analyzer with a second v-cavity"
   ]
  },
  {
   "cell_type": "code",
   "execution_count": null,
   "id": "4a971190-e99d-4a9c-bc4d-8bbea1f151e6",
   "metadata": {},
   "outputs": [],
   "source": [
    "file_range = range(1461,1577)\n",
    "file_list = [\"/HB2D_exp0005_scan\" + get_scan(i) + \".dat\" for i in file_range]\n",
    "\n",
    "nums,*_,parms,data = load_data(data_path,file_list,dest_path,write_data=True,overwrite=True,reorder=True)"
   ]
  },
  {
   "cell_type": "code",
   "execution_count": null,
   "id": "e800d641-4ba1-4e44-a5e9-fb5cb3865d07",
   "metadata": {},
   "outputs": [],
   "source": [
    "start = 0\n",
    "mon = data[start:start+21:,:,-2]\n",
    "det = data[start+21:start+42:,:,-3]\n",
    "_ = get_tr(mon,det,title='MWP 8 amp',ac_range=[-5,5,-5,5])\n",
    "print(f'Monitor: {nums[start:start+21]}')\n",
    "print(f'Detector: {nums[start+21:start+42]}')"
   ]
  },
  {
   "cell_type": "code",
   "execution_count": null,
   "id": "c254c9f6-c0a0-4f79-b0a0-88ea171fc850",
   "metadata": {},
   "outputs": [],
   "source": [
    "start = 42\n",
    "mon = data[start:start+21:,:,-2]\n",
    "det = data[start+21:start+42:,:,-3]\n",
    "_ = get_tr(mon,det,title='MWP 8 amp',ac_range=[-5,5,-5,5])\n",
    "print(f'Monitor: {nums[start:start+21]}')\n",
    "print(f'Detector: {nums[start+21:start+42]}')"
   ]
  },
  {
   "cell_type": "markdown",
   "id": "fa979c85-b16f-4d08-9d55-8fc048752876",
   "metadata": {},
   "source": [
    "Combined data set:"
   ]
  },
  {
   "cell_type": "code",
   "execution_count": null,
   "id": "aa7ca083-6592-4e0a-8f8f-5fab893eb0d3",
   "metadata": {},
   "outputs": [],
   "source": [
    "start = 0\n",
    "mon = data[start:start+21:,:,-2] + data[42:42+21:,:,-2]\n",
    "det = data[start+21:start+42:,:,-3] + data[42+21:42+42:,:,-3]\n",
    "_ = get_tr(mon,det,title='MWP 8 amp',ac_range=[-5,5,-5,5],contrast=True)\n",
    "print(f'Monitor: {nums[start:start+21],nums[42:42+21]}')\n",
    "print(f'Detector: {nums[start+21:start+42],nums[42:42+21]}')"
   ]
  },
  {
   "cell_type": "markdown",
   "id": "3a5d59c2-36c2-423c-9d5b-4e6dfca8dfe1",
   "metadata": {},
   "source": [
    "### 7/29 Continuing the 8 amp MWP scan"
   ]
  },
  {
   "cell_type": "code",
   "execution_count": null,
   "id": "7563e984-e875-4f4c-8e1c-6acac28dd65f",
   "metadata": {},
   "outputs": [],
   "source": [
    "file_range = range(1577,1629) #monitor didn't drive out of the beam for the overnight scans\n",
    "file_list = [\"/HB2D_exp0005_scan\" + get_scan(i) + \".dat\" for i in file_range]\n",
    "\n",
    "nums,*_,parms,data = load_data(data_path,file_list,dest_path,write_data=True,overwrite=True,reorder=True)"
   ]
  },
  {
   "cell_type": "code",
   "execution_count": null,
   "id": "247512bd-3fc8-4c1d-bbbf-8ff0063da9ae",
   "metadata": {},
   "outputs": [],
   "source": [
    "file_range = range(1629,1633) #monitor didn't drive out of the beam for the overnight scans\n",
    "file_list = [\"/HB2D_exp0005_scan\" + get_scan(i) + \".dat\" for i in file_range]\n",
    "\n",
    "nums,*_,parms,data = load_data(data_path,file_list,dest_path,write_data=True,overwrite=True,reorder=True)"
   ]
  },
  {
   "cell_type": "code",
   "execution_count": null,
   "id": "ce9d92a3-9ce6-4259-b355-7f3c9ab25982",
   "metadata": {},
   "outputs": [],
   "source": [
    "start = 1634\n",
    "for i in range(5):\n",
    "    file_range = range(start+10*i,start+10*(i+1))\n",
    "    file_list = [\"/HB2D_exp0005_scan\" + get_scan(i) + \".dat\" for i in file_range]\n",
    "    _ = load_data(data_path,file_list,dest_path,write_data=True,overwrite=True,reorder=True)"
   ]
  },
  {
   "cell_type": "code",
   "execution_count": null,
   "id": "7697cc96-74b9-4eed-bc3d-d951cbb90c87",
   "metadata": {},
   "outputs": [],
   "source": [
    "start = 1686\n",
    "for i in range(4):\n",
    "    file_range = range(start+14*i,start+14*(i+1))\n",
    "    file_list = [\"/HB2D_exp0005_scan\" + get_scan(i) + \".dat\" for i in file_range]\n",
    "    _ = load_data(data_path,file_list,dest_path,write_data=True,overwrite=True,reorder=True)"
   ]
  },
  {
   "cell_type": "code",
   "execution_count": null,
   "id": "708dee0d-b534-4d72-b043-218fea22679a",
   "metadata": {},
   "outputs": [],
   "source": [
    "start = 1746\n",
    "for i in range(4):\n",
    "    file_range = range(start+14*i,start+14*(i+1))\n",
    "    file_list = [\"/HB2D_exp0005_scan\" + get_scan(i) + \".dat\" for i in file_range]\n",
    "    _ = load_data(data_path,file_list,dest_path,write_data=True,overwrite=True,reorder=True)"
   ]
  },
  {
   "cell_type": "code",
   "execution_count": null,
   "id": "ef8cdcea-8f56-4f75-b286-06a0a062b5da",
   "metadata": {},
   "outputs": [],
   "source": []
  },
  {
   "cell_type": "markdown",
   "id": "d9a87e56-3462-405e-b5bb-ee44495b35c4",
   "metadata": {},
   "source": [
    "### 7/31 Still analyzing the long scan data"
   ]
  },
  {
   "cell_type": "code",
   "execution_count": null,
   "id": "959eb993-f760-487f-b09f-9548a06629f5",
   "metadata": {},
   "outputs": [],
   "source": [
    "for i in range (1847,1904):\n",
    "    file_range = [i]\n",
    "    file_list = [\"/HB2D_exp0005_scan\" + get_scan(i) + \".dat\" for i in file_range]\n",
    "\n",
    "    nums,*_,parms,data = load_data(data_path,file_list,dest_path,write_data=True,overwrite=True,reorder=True)"
   ]
  },
  {
   "cell_type": "code",
   "execution_count": null,
   "id": "3e060766-c558-4025-9dd6-c102315a7818",
   "metadata": {},
   "outputs": [],
   "source": []
  },
  {
   "cell_type": "code",
   "execution_count": null,
   "id": "2501d976-e430-46db-bb36-1c2ea73453fb",
   "metadata": {},
   "outputs": [],
   "source": []
  }
 ],
 "metadata": {
  "kernelspec": {
   "display_name": "Python 3 (ipykernel)",
   "language": "python",
   "name": "python3"
  },
  "language_info": {
   "codemirror_mode": {
    "name": "ipython",
    "version": 3
   },
   "file_extension": ".py",
   "mimetype": "text/x-python",
   "name": "python",
   "nbconvert_exporter": "python",
   "pygments_lexer": "ipython3",
   "version": "3.10.12"
  }
 },
 "nbformat": 4,
 "nbformat_minor": 5
}
