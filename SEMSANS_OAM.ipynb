{
 "cells": [
  {
   "cell_type": "markdown",
   "id": "484a672c",
   "metadata": {},
   "source": [
    "# OAM SEMSANS Experiment:\n",
    "***"
   ]
  },
  {
   "cell_type": "markdown",
   "id": "b28291e5-2ee7-4380-8028-164ccca4b6a0",
   "metadata": {},
   "source": [
    "This notebook contain some theorectical calculations, McStas simulations, and the principle data analysis for the \"Demonstration of orbital angular momentum in neutron beams\" experiment at the HFIR at ORNL. This experiment will begin July 31st, 2023 at the HB-2D polarized development beamline during fuel cycle 502."
   ]
  },
  {
   "cell_type": "markdown",
   "id": "7db3d46e-8ca2-4de9-81be-819a3eadbb32",
   "metadata": {
    "tags": []
   },
   "source": [
    "## Constants and functions"
   ]
  },
  {
   "cell_type": "code",
   "execution_count": 1,
   "id": "56536eb7",
   "metadata": {},
   "outputs": [
    {
     "name": "stdout",
     "output_type": "stream",
     "text": [
      "Larmor constant = -4.632 (G^-1 m^-1 AA^-1)\n"
     ]
    }
   ],
   "source": [
    "import numpy as np\n",
    "import sympy as sym\n",
    "import scipy as sc\n",
    "import matplotlib.pyplot as plt\n",
    "from matplotlib import cm\n",
    "import mcstasscript as ms\n",
    "import scienceplots\n",
    "import math,os,csv\n",
    "from scipy.optimize import curve_fit,minimize\n",
    "from scipy.signal import hilbert,convolve,find_peaks\n",
    "from scipy.fft import fft,fftfreq,ifft\n",
    "from scipy.integrate import quad,simpson\n",
    "from scipy.interpolate import CubicSpline\n",
    "\n",
    "plt.style.use(['science', 'notebook', 'grid', 'default', 'bright'])\n",
    "plot_height = 8\n",
    "plot_width = plot_height*1.618\n",
    "\n",
    "#np.set_printoptions(suppress=False,precision=5)\n",
    "np.set_printoptions(suppress=True)\n",
    "\n",
    "SMALL_SIZE,MEDIUM_SIZE,BIGGER_SIZE = 15,20,25\n",
    "plt.rc('font', size=SMALL_SIZE)          # controls default text sizes\n",
    "plt.rc('axes', titlesize=SMALL_SIZE)     # fontsize of the axes title\n",
    "plt.rc('axes', labelsize=MEDIUM_SIZE)    # fontsize of the x and y labels\n",
    "plt.rc('xtick', labelsize=SMALL_SIZE)    # fontsize of the tick labels\n",
    "plt.rc('ytick', labelsize=SMALL_SIZE)    # fontsize of the tick labels\n",
    "plt.rc('legend', fontsize=SMALL_SIZE)    # legend fontsize\n",
    "plt.rc('figure', titlesize=BIGGER_SIZE)  # fontsize of the figure title\n",
    "plt.rc('axes', titlesize=BIGGER_SIZE)    # actually gets title font size (glitch in matplotlib?)\n",
    "#plt.rcParams.update({'axes.grid':True})\n",
    "\n",
    "plt.rc('text', usetex=False)\n",
    "if False: #Additions to latex preamble for matplotlib:\n",
    "    plt.rc('text', usetex=True)\n",
    "    plt.rc('text.latex', preamble=r'\\usepackage{amsmath,amsthm,amssymb,amsfonts,braket,siunitx}')\n",
    "    plt.rcParams[\"font.family\"] = \"Computer Modern Roman\"\n",
    "    sym.init_printing()\n",
    "\n",
    "LAM = 4.25  #HB-2D wavelength\n",
    "DLAM = LAM*1/100  #HB-2D wavelength spread\n",
    "gn = -1.832471e8  #gyromagnetic ratio of neutron (rad/T/m^2)\n",
    "mn = 1.674927e-27  #mass of neutron (kg)\n",
    "hbar = 1.054571e-34  #plancks constant (kg m^2/s)\n",
    "cln = gn/(hbar*2*np.pi)*mn  #Larmor constant (SI units)\n",
    "cl = gn/(hbar*2*np.pi)*mn*1e-14  #Larmor phase (G^-1 m^-1 AA^-1)\n",
    "print(f'Larmor constant = {round(cl,3)} (G^-1 m^-1 AA^-1)')"
   ]
  },
  {
   "cell_type": "code",
   "execution_count": 2,
   "id": "ad9cc04a-6956-4c47-8ee2-a525c9436842",
   "metadata": {},
   "outputs": [],
   "source": [
    "def get_period(I1,I2,gpa=30.,lam=LAM,show=False):\n",
    "    \"\"\"Returns SEMSANS period for the MWPs.\"\"\"\n",
    "    assert I2 > I1, 'Second MWP current must be larger than the first!'\n",
    "    result = np.pi/(cl*gpa*lam*(I1-I2))\n",
    "    if show: print(f'Period: {np.round(result*1e3,2)} mm')\n",
    "    return result\n",
    "\n",
    "def get_sem(B1,L1,L2,show=False):\n",
    "    \"\"\"Returns focusing condition for prism in regular SEMSANS.\"\"\"\n",
    "    assert L1 >= L2, 'L1 > L2!'\n",
    "    result = B1*L1/L2\n",
    "    if show: print(f'SEMSANS focused current: {round(result,2)} amps')\n",
    "    return result\n",
    "\n",
    "def get_ch(B1,L1,L2,L3,L4):\n",
    "    \"\"\"Returns focusing conditions for 4 MWPs in checkerboard SEMSANS.\"\"\"\n",
    "    if L1 <= L2 or L2 <= L3 or L3 <= L4:\n",
    "        raise ValueError('Distances must be in strict descending order!')\n",
    "    result = np.array([-B1*L1/L2, B1*(L1 - L2)/(L3 - L4)*L4/L2, -B1*(L1 - L2)/(L3 - L4)*L3/L2])\n",
    "    return result\n",
    "\n",
    "def cos(x,*args,**kwargs):\n",
    "    \"\"\"Returns a cosine with parameters determined by ().\n",
    "    Standard argument list is ampitude,frequency,phase,shim.\"\"\"\n",
    "    assert len(args) + len(kwargs) == 4, 'Must specify 4 parameters: amp, freq, phase, and shim!'\n",
    "    i=0\n",
    "    if 'amp' in kwargs: amp = kwargs.get('amp')\n",
    "    else:\n",
    "        amp = args[i]\n",
    "        i += 1\n",
    "    if 'freq' in kwargs: freq = kwargs.get('freq')\n",
    "    else:\n",
    "        freq = args[i]\n",
    "        i += 1\n",
    "    if 'phase' in kwargs: phase = kwargs.get('phase')\n",
    "    else: \n",
    "        phase = args[i]\n",
    "        i += 1\n",
    "    if 'shim' in kwargs: shim = kwargs.get('shim')\n",
    "    else: \n",
    "        shim = args[i]\n",
    "    return amp*np.cos(freq*x + phase) + shim\n",
    "\n",
    "def get_flip(dist,gpa=30.,lam=LAM,flip=np.pi,show=True):\n",
    "    \"\"\"Returns the current required for pi or pi/2 flip.\"\"\"\n",
    "    result = round(flip/(cl*gpa*lam*dist*1e-2),2)\n",
    "    if show: print(f'Current required for a {round(flip,2)} flip: {result} amps')\n",
    "    return result\n",
    "\n",
    "def frp_convert(value,show=False):\n",
    "    \"\"\"Convert polarization to flipping ratio and vice-versa.\"\"\"\n",
    "    assert value != 1, 'FR is infinite when polarization is unity!'\n",
    "    if value > 1:\n",
    "        result = (value - 1)/(value + 1)\n",
    "        something = f'FR: {round(value,3)} \\n Pol: {round(result*100,1)}%'\n",
    "    else:\n",
    "        result = (1 + value)/(1 - value)\n",
    "        something = f'FR: {round(result,3)} \\n Pol: {round(value*100,1)}%'\n",
    "    if show: print(something)\n",
    "    return result"
   ]
  },
  {
   "cell_type": "code",
   "execution_count": 6,
   "id": "de768f85-7bd8-4f01-a655-d9aea5c1cdd5",
   "metadata": {},
   "outputs": [
    {
     "name": "stdout",
     "output_type": "stream",
     "text": [
      "SEMSANS focused current: 19.23 amps\n",
      "Period: 2.39 mm\n"
     ]
    }
   ],
   "source": [
    "B1 = 17\n",
    "L1 = .2+.6+.15\n",
    "L2 = L1 - .11\n",
    "\n",
    "#_ = get_flip(3,gpa=5,show=True)\n",
    "_ = get_period(B1,get_sem(B1,L1,L2,show=True),show=True)"
   ]
  },
  {
   "cell_type": "markdown",
   "id": "e034eb35-f1d4-440a-8d42-a9b0bd5903bb",
   "metadata": {
    "jp-MarkdownHeadingCollapsed": true,
    "tags": []
   },
   "source": [
    "## Building the beamline"
   ]
  },
  {
   "cell_type": "code",
   "execution_count": null,
   "id": "2555c8e8",
   "metadata": {
    "scrolled": true
   },
   "outputs": [],
   "source": [
    "lambda0 = 4.25  #Mean wavelength (AA)\n",
    "dlambda = lambda0*1/100\n",
    "\n",
    "ap_width = 10.\n",
    "ap_height = 10.\n",
    "\n",
    "MWP_str = 6e-3  #MWP field strength (T/Amp)\n",
    "NU_str = 1e-3\n",
    "CRYO_str = 1e-3\n",
    "\n",
    "MWP_dims = [.02,.02,.11]\n",
    "NU_dims = [.03,.03,.03]\n",
    "CRYO_dims = [.03,.03,.015]\n",
    "\n",
    "MWP_sep = .006\n",
    "NU_sep = .0125 + .015\n",
    "CYRO_sep = .006\n",
    "\n",
    "N1 = .15\n",
    "C1 = N1 + NU_dims[2] + NU_sep\n",
    "d1 = C1 + CRYO_dims[2] + CYRO_sep\n",
    "d2 = d1 + MWP_dims[2] + MWP_sep\n",
    "N2 = d2 + MWP_dims[2] + NU_sep\n",
    "d3 = N2 + NU_dims[2] + NU_sep\n",
    "d4 = d3 + MWP_dims[2] + MWP_sep\n",
    "C2 = d4 + MWP_dims[2] + CYRO_sep\n",
    "N3 = C2 + CRYO_dims[2] + NU_sep\n",
    "det1 = N3 + NU_dims[2] + .15    #distance from sample position to detector1 (m)\n",
    "ds = det1 + .3\n",
    "det2 = ds + .6  #must be shorter than 3 meters\n",
    "d = [N1,C1,d1,d2,N2,d3,d4,C2,N3,det1,ds,det2]\n",
    "\n",
    "print(MWP_dims[2]*2+MWP_sep+CYRO_sep+CRYO_dims[2]+2*NU_sep)\n",
    "\n",
    "print(f'Wavelength: {lambda0} p/m {round(dlambda,3)}')\n",
    "print(f'Aperture (mm) = {ap_width,ap_height}')\n",
    "print(f'Front distances from MWP to source (m): {np.round(d,3)}')\n",
    "\n",
    "cur = get_sec(sel=100)\n",
    "print(f'MWP currents: {cur}')\n",
    "\n",
    "pol_dir = [1,0,0]    #direction of polarizer (x,y,z)\n",
    "pol_dir = [i/np.sqrt(sum([j**2 for j in pol_dir])) for i in pol_dir]    \n",
    "print('Polarizer axis: ', [round(i,3) for i in pol_dir])\n",
    "\n",
    "det_x,det_y = 10.,10.\n",
    "det_bins = 128\n",
    "\n",
    "print(f'Detector size (mm): {np.round([det_x,det_y],3)}')\n",
    "print('[x,y] bin size (mm) = ', [round(i,3) for i in [det_x/det_bins,det_y/det_bins]], '\\n')\n",
    "\n",
    "print(\"-\"*80)     #Start of instrument definition\n",
    "OAM = ms.McStas_instr('OAM', author = 'Sam McKay', origin = 'Indiana University')\n",
    "delta_lambda = OAM.add_parameter(\"double\", \"delta_lambda\", value = dlambda, comment=\"Wavelength spread [AA]\")\n",
    "low_count = OAM.add_parameter(\"int\", \"low_count\", value = 0, comment=\"if true flips analyzer direction [N/A]\")\n",
    "all_off = OAM.add_parameter(\"int\", \"all_off\", value = 0, comment=\"if true turns off all MWPs [N/A]\")\n",
    "cur1 = OAM.add_parameter(\"double\", \"cur1\", value = cur, comment=\"MWP1 current [Amps]\")\n",
    "cur2 = OAM.add_parameter(\"double\", \"cur2\", value = -cur, comment=\"MWP2 current [Amps]\")\n",
    "cur3 = OAM.add_parameter(\"double\", \"cur3\", value = cur, comment=\"MWP3 current [Amps]\")\n",
    "cur4 = OAM.add_parameter(\"double\", \"cur4\", value = -cur, comment=\"MWP4 current [Amps]\")\n",
    "polx = OAM.add_parameter(\"double\", \"polx\", value = pol_dir[0], comment=\"x-component of polarizer [N/A]\")\n",
    "poly = OAM.add_parameter(\"double\", \"poly\", value = pol_dir[1], comment=\"y-component of polarizer [N/A]\")\n",
    "polz = OAM.add_parameter(\"double\", \"polz\", value = pol_dir[2], comment=\"z-component of polarizer [N/A]\")\n",
    "OAM.show_parameters()\n",
    "\n",
    "print(\"-\"*80)    #Source and polarizer (collimation included via source parameters):\n",
    "OAM.add_component(\"origin\",\"Progress_bar\")\n",
    "OAM.add_component(\"arm\",\"Arm\", AT=[0,0,0], RELATIVE=\"origin\")\n",
    "\n",
    "src = OAM.add_component(\"src\",\"Source_sam\", AT=[0,0,0], RELATIVE=\"origin\")\n",
    "src.set_parameters(xwidth=ap_width*1e-3,yheight=ap_height*1e-3,I1=1e13,lambda0=lambda0,dlambda=\"delta_lambda\",\\\n",
    "                   focus_xw=det_x/1e3,focus_yh=det_y/1e3,x_offset=det_x_offset/1e3,dist=Ld)\n",
    "print(src)\n",
    "pol = OAM.add_component(\"pol\",\"Set_pol\", AT=[0,0,1e-6], RELATIVE=\"origin\")\n",
    "pol.set_parameters(px=\"polx\", py=\"poly\", pz=\"polz\")\n",
    "\n",
    "print(pol)\n",
    "\n",
    "print(\"-\"*80)    #First accelerator coil and nutator\n",
    "NU1 = OAM.add_component(\"NU1\",\"Pol_constBfield\", AT=[0,0,dists['CG']], RELATIVE=\"origin\")\n",
    "NU1.set_parameters(xwidth=CG_dim['x'], yheight=CG_dim['y'], zdepth=CG_dim['z'], \\\n",
    "                    B=\"BCG*(1-all_off)\")\n",
    "print(NU1)\n",
    "AC1 = OAM.add_component(\"AC1\",\"Pol_constBfield\", AT=[0,0,dists['CG']], RELATIVE=\"origin\")\n",
    "AC1.set_parameters(xwidth=CG_dim['x'], yheight=CG_dim['y'], zdepth=CG_dim['z'], \\\n",
    "                    B=\"BCG*(1-all_off)\")\n",
    "print(AC1)\n",
    "\n",
    "print(\"-\"*80)    #Magnetic Wollaston prisms:\n",
    "MWP1 = OAM.add_component(\"MWP1\",\"pol_MWP_FI_expansion_v2\", AT=[0,0,d[0]], RELATIVE=\"origin\")\n",
    "MWP1.set_parameters(xwidth=MWP_dims[0], yheight=MWP_dims[1], zdepth=MWP_dims[2], \\\n",
    "                    current=\"cur1*(1-all_off)\")\n",
    "MWP2 = OAM.add_component(\"MWP2\",\"pol_MWP_FI_expansion_v2\", AT=[0,0,d[1]], RELATIVE=\"origin\")\n",
    "MWP2.set_parameters(xwidth=MWP_dims[0], yheight=MWP_dims[1], zdepth=MWP_dims[2], \\\n",
    "                    current=\"cur2*(1-all_off)\")\n",
    "MWP3 = OAM.add_component(\"MWP3\",\"pol_MWP_FI_expansion_v2\", AT=[0,0,d[2]], RELATIVE=\"origin\")\n",
    "MWP3.set_parameters(xwidth=MWP_dims[0], yheight=MWP_dims[1], zdepth=MWP_dims[2], \\\n",
    "                    current=\"cur3*(1-all_off)\")\n",
    "MWP4 = OAM.add_component(\"MWP4\",\"pol_MWP_FI_expansion_v2\", AT=[0,0,d[3]], RELATIVE=\"origin\")\n",
    "MWP4.set_parameters(xwidth=MWP_dims[0], yheight=MWP_dims[1], zdepth=MWP_dims[2], \\\n",
    "                    current=\"cur4*(1-all_off)\")\n",
    "MWP1.set_ROTATED([0, 0, 0], RELATIVE=\"ABSOLUTE\")\n",
    "MWP2.set_ROTATED([0, 0, 0], RELATIVE=\"ABSOLUTE\")\n",
    "MWP3.set_ROTATED([0, 0, 90], RELATIVE=\"ABSOLUTE\")\n",
    "MWP4.set_ROTATED([0, 0, 90], RELATIVE=\"ABSOLUTE\")\n",
    "print(MWP1,'\\n', MWP2)\n",
    "print(MWP3, '\\n', MWP4)\n",
    "\n",
    "print(\"-\"*80)    #Second accelerator coil and nutator\n",
    "AC2 = OAM.add_component(\"AC2\",\"Pol_constBfield\", AT=[0,0,dists['CG']], RELATIVE=\"origin\")\n",
    "AC2.set_parameters(xwidth=CG_dim['x'], yheight=CG_dim['y'], zdepth=CG_dim['z'], \\\n",
    "                    B=\"BCG*(1-all_off)\")\n",
    "print(AC2)\n",
    "NU2 = OAM.add_component(\"NU2\",\"Pol_constBfield\", AT=[0,0,dists['CG']], RELATIVE=\"origin\")\n",
    "NU2.set_parameters(xwidth=CG_dim['x'], yheight=CG_dim['y'], zdepth=CG_dim['z'], \\\n",
    "                    B=\"BCG*(1-all_off)\")\n",
    "print(NU2)\n",
    "\n",
    "print(\"-\"*80)    #Detectors and sample:\n",
    "ana = OAM.add_component(\"ana\",\"PolAnalyser_ideal\", AT=[0, 0, Ld - (Ls + 2e-6)], RELATIVE=\"origin\")\n",
    "ana.set_parameters(mx=0, my=0, mz=\"polx*(1-2*low_count)\")\n",
    "ana.set_ROTATED([0, 0, 0], RELATIVE=\"ABSOLUTE\")\n",
    "print(ana)\n",
    "\n",
    "twoD_det = OAM.add_component(\"twoD_det\",\"PSD_monitor\", AT=[det_x_offset/1e3, 0, Ld + 2e-6], RELATIVE=\"origin\")\n",
    "twoD_det.set_parameters(nx=det_bins, ny=det_bins, filename=twoD_file, xwidth=det_x*1e-3, yheight=det_y*1e-3)\n",
    "print(twoD_det)\n",
    "\n",
    "print(\"-\"*80)    #Final instrument summary:\n",
    "OAM.show_components()"
   ]
  },
  {
   "cell_type": "markdown",
   "id": "4f7ee684-f87b-46f1-ae19-34cb290c9af5",
   "metadata": {
    "jp-MarkdownHeadingCollapsed": true,
    "tags": []
   },
   "source": [
    "## Simulation scans"
   ]
  },
  {
   "cell_type": "code",
   "execution_count": null,
   "id": "67844836",
   "metadata": {
    "scrolled": true
   },
   "outputs": [],
   "source": [
    "def do_run(ray_num, curs):\n",
    "    \"\"\"Runs the two necessary simulations to extract the polarization.\n",
    "    Returns high and low counts and errors and all used currents.\"\"\"\n",
    "    used_curs = []\n",
    "    hc_runs, hc_err = [[],[]]\n",
    "    lc_runs, lc_err = [[],[]]\n",
    "\n",
    "    for i in curs:\n",
    "        c1 = i\n",
    "        c2, c3, c4 = get_ch(i, L1, L2, L3, L4)\n",
    "        used_curs.append([c1,c2,c3,c4])\n",
    "        print('Currents = ', [round(i,3) for i in [c1,c2,c3,c4]])\n",
    "\n",
    "        OAM.settings(output_path='OAM_hc_'+str(round(c1,2)), ncount=ray_num)\n",
    "        low_count.value, all_off.value, cur1.value, cur2.value, cur3.value, cur4.value = 0, 0, c1, c2, c3, c4\n",
    "        OAM_hc = OAM.backengine()\n",
    "        hc_runs.append(OAM_hc[-1].Intensity)    #only LAST detector is returned\n",
    "        hc_err.append(OAM_hc[-1].Error)\n",
    "        ms.make_plot(OAM_hc)\n",
    "\n",
    "        OAM.settings(output_path='OAM_lc_'+str(round(c1,2)))\n",
    "        low_count.value = 1\n",
    "        OAM_lc = OAM.backengine()\n",
    "        lc_runs.append(OAM_lc[-1].Intensity)\n",
    "        lc_err.append(OAM_lc[-1].Error)\n",
    "        ms.make_plot(OAM_lc)\n",
    "        print('='*80, '\\n')\n",
    "    return used_curs, hc_runs, hc_err, lc_runs, lc_err\n",
    "        \n",
    "used_curs, hc_runs, hc_err, lc_runs, lc_err = do_run(1e7, [10,40])\n"
   ]
  },
  {
   "cell_type": "markdown",
   "id": "5d74ccee",
   "metadata": {
    "jp-MarkdownHeadingCollapsed": true,
    "tags": []
   },
   "source": [
    "## Simulation Analysis\n",
    "***"
   ]
  },
  {
   "cell_type": "code",
   "execution_count": null,
   "id": "b4f13d1a",
   "metadata": {},
   "outputs": [],
   "source": [
    "xpos = np.linspace(-det_x/2,det_x/2, num=det_bins, endpoint=True)\n",
    "fine_bins = 200\n",
    "finer_bins = 1000\n",
    "xpos_fine = np.linspace(xpos[0], xpos[-1], num=fine_bins, endpoint=True)\n",
    "xpos_finer = np.linspace(xpos[0], xpos[-1], num=finer_bins, endpoint=True)\n",
    "pols = np.array([np.zeros((det_bins,det_bins)) for i in range(len(hc_runs))])\n",
    "\n",
    "for i in range(len(used_curs)): #don't change this!\n",
    "    for j in range(det_bins):\n",
    "        for k in range(det_bins):\n",
    "            pols[i][j][k] = ((hc_runs[i][j][k] - lc_runs[i][j][k])\\\n",
    "                             /(hc_runs[i][j][k] + lc_runs[i][j][k]))\n",
    "                \n",
    "    fig = plt.figure(figsize=(plot_width,plot_height))\n",
    "    ax = plt.axes()\n",
    "    plt.title('Pol. with B1 ='+str(used_curs[i][0]))\n",
    "    plt.imshow(pols[i], origin='lower', vmin=-1, vmax=1, interpolation='none', cmap='bwr')\n",
    "    plt.xlabel('x [mm]')\n",
    "    plt.ylabel('y [mm]')\n",
    "    ax.set_xticks(np.linspace(0,det_bins-1,7))\n",
    "    ax.set_yticks(np.linspace(0,det_bins-1,7))\n",
    "    ax.set_xticklabels([round(i,1) for i in np.linspace(-det_x/2,det_x/2,7)])\n",
    "    ax.set_yticklabels([round(i,1) for i in np.linspace(-det_y/2,det_y/2,7)])\n",
    "    plt.colorbar()\n",
    "    plt.show()\n"
   ]
  },
  {
   "cell_type": "code",
   "execution_count": null,
   "id": "71f260c1",
   "metadata": {},
   "outputs": [],
   "source": [
    "x_mg, y_mg = np.meshgrid(xpos, xpos)\n",
    "def cb_theory(x,y,p):\n",
    "    \"\"\"Generates theorectical checkerboard spin-texture.\"\"\"\n",
    "    r_0 = p/(np.pi)\n",
    "    z = -2*np.cos(2*y/r_0)*np.cos(x/r_0)*np.sin(x/r_0)\n",
    "    return z\n",
    "\n",
    "def get_p(c):\n",
    "    \"\"\"Returns theorectical fringe period.\"\"\"\n",
    "    return abs(2*np.pi/(cL*lambda0*MWP_str*(c[0] + c[1])))*1e3\n",
    "cb_th = cb_theory(x_mg,y_mg,get_p(used_curs[-1]))\n",
    "\n",
    "plot_im, plot_3D = True, False\n",
    "\n",
    "if plot_im:\n",
    "    \"\"\"fig = plt.figure(figsize=(plot_width,plot_height))\n",
    "    ax = plt.axes()\n",
    "    plt.title('Theory')\n",
    "    plt.imshow(cb_th, origin='lower', vmin=-1, vmax=1,interpolation='none', cmap='bwr')\n",
    "    plt.colorbar()\n",
    "    plt.xlabel('x [mm]')\n",
    "    plt.ylabel('y [mm]')\n",
    "    ax.set_xticks(np.linspace(0,det_bins-1,7))\n",
    "    ax.set_yticks(np.linspace(0,det_bins-1,7))\n",
    "    ax.set_xticklabels([round(i,1) for i in np.linspace(-det_x/2,det_x/2,7)])\n",
    "    ax.set_yticklabels([round(i,1) for i in np.linspace(-det_y/2,det_y/2,7)])\n",
    "    plt.show()\"\"\"\n",
    "\n",
    "    fig = plt.figure(figsize=(plot_width,plot_height))\n",
    "    ax = plt.axes()\n",
    "    plt.title('McStas Simulated Polarization')\n",
    "    plt.imshow(pols[-1], origin='lower', vmin=-1, vmax=1, interpolation='none', cmap='bwr')\n",
    "    plt.colorbar()\n",
    "    plt.xlabel('x [mm]')\n",
    "    plt.ylabel('y [mm]')\n",
    "    ax.set_xticks(np.linspace(0,det_bins-1,7))\n",
    "    ax.set_yticks(np.linspace(0,det_bins-1,7))\n",
    "    ax.set_xticklabels([round(i,1) for i in np.linspace(-det_x/2,det_x/2,7)])\n",
    "    ax.set_yticklabels([round(i,1) for i in np.linspace(-det_y/2,det_y/2,7)])\n",
    "    #plt.axhline(y=63.5, linewidth=5, linestyle='--', color='green')\n",
    "    #plt.axvline(x=69.25, linewidth=5, linestyle='--', color='purple')\n",
    "    plt.show()\n",
    "\n",
    "    fig = plt.figure(figsize=(plot_width,plot_height))\n",
    "    ax = plt.axes()\n",
    "    plt.title('McStas Polarization Slices')\n",
    "    plt.plot(xpos, pols[-1][64,:], 'o', ms=15, color='green', zorder=10, markerfacecolor='none', markeredgewidth=5)\n",
    "    guess = [(np.max(pols[-1][64,:])-np.min(pols[-1][64,:]))/2.,2*np.pi/1,0,np.mean(pols[-1][64,:])]\n",
    "    fit, cov = sp.optimize.curve_fit(simple_cos, xpos, pols[-1][64,:], p0=guess)\n",
    "    plt.plot(xpos, simple_cos(xpos, *fit), '-', linewidth=6, color='green', label='Horizontal Fit')\n",
    "    \n",
    "    plt.plot(xpos, pols[-1][:,69], 'o', ms=15, color='purple', zorder=15, markerfacecolor='none', markeredgewidth=5)\n",
    "    guess = [(np.max(pols[-1][:,69])-np.min(pols[-1][:,69]))/2.,2*np.pi/1,0,np.mean(pols[-1][:,69])]\n",
    "    fit, cov = sp.optimize.curve_fit(simple_cos, xpos, pols[-1][:,69], p0=guess)\n",
    "    plt.plot(xpos, simple_cos(xpos, *fit), '-', linewidth=6, color='purple', label='Vertical Fit')\n",
    "    \n",
    "    plt.xlabel('x [mm]')\n",
    "    plt.ylabel('Polarization')\n",
    "    plt.legend(loc='lower left', framealpha=1).set_zorder(20)\n",
    "    plt.grid()\n",
    "    plt.show()\n",
    "    \n",
    "if plot_3D:\n",
    "    fig = plt.figure()\n",
    "    ax = plt.axes(projection='3d')\n",
    "    #ax.view_init(60, 35)\n",
    "    ax.contour3D(xpos,xpos,pols[0], 100, cmap='plasma')\n",
    "    plt.show()\n",
    "\n",
    "    fig = plt.figure()\n",
    "    ax = plt.axes(projection='3d')\n",
    "    ax.plot_surface(x_mg,y_mg,cb_th, rstride=1, cstride=1, cmap='plasma', edgecolor='none')\n",
    "    plt.show()\n"
   ]
  },
  {
   "cell_type": "code",
   "execution_count": null,
   "id": "0e5b5802",
   "metadata": {},
   "outputs": [],
   "source": [
    "fig = plt.figure(figsize=(plot_width,plot_height))\n",
    "ax = plt.axes()\n",
    "plt.title('Polarization vs position')\n",
    "plt.plot(xpos,pols[1,5,:], linewidth=5, label='McStas')\n",
    "plt.plot(xpos, -cb_theory(xpos,xpos[5],get_p(used_curs[1])), linewidth=5, label='Quantum')\n",
    "ax.set_ylim(-1,1)\n",
    "plt.legend()\n",
    "plt.grid()\n",
    "plt.show()\n",
    "\n",
    "fig = plt.figure(figsize=(plot_width,plot_height))\n",
    "ax = plt.axes()\n",
    "plt.title('Polarization vs position')\n",
    "plt.plot(xpos,pols[1,:,45], linewidth=5, label='McStas')\n",
    "plt.plot(xpos, -cb_theory(xpos[45],xpos,get_p(used_curs[1])), linewidth=5, label='Quantum')\n",
    "ax.set_ylim(-1,1)\n",
    "plt.legend()\n",
    "plt.grid()\n",
    "plt.show()\n"
   ]
  },
  {
   "cell_type": "markdown",
   "id": "0d79cd98-a006-4ad0-9286-1d30c708f6c0",
   "metadata": {
    "tags": []
   },
   "source": [
    "## Experiment Data Analysis:\n",
    "***"
   ]
  },
  {
   "cell_type": "code",
   "execution_count": null,
   "id": "e670aa92-04db-4b4b-bd9f-df6fcd214ad6",
   "metadata": {},
   "outputs": [],
   "source": [
    "def get_tr(mon,det,plot=True,title='',ac_range=[-2.5,2.5,-2.5,2.5]):\n",
    "    \"\"\"Gets the normalized transmission.\"\"\"\n",
    "    if plot:\n",
    "        fig,ax = plt.subplots(nrows=1,ncols=3,figsize=(20,7))\n",
    "        \n",
    "        ax[0].set_title('Monitor T')\n",
    "        im1 = ax[0].imshow(mon,extent=ac_range,origin='lower')\n",
    "        plt.colorbar(im1,ax=ax[0],shrink=.8)\n",
    "\n",
    "        ax[1].set_title('Detector T')\n",
    "        im2 = ax[1].imshow(det,extent=ac_range,origin='lower')\n",
    "        plt.colorbar(im2,ax=ax[1],shrink=.8)\n",
    "\n",
    "        ax[2].set_title('Relative T')\n",
    "        im3 = ax[2].imshow(det/mon/np.max(det/mon),extent=ac_range,origin='lower')\n",
    "        plt.colorbar(im3,ax=ax[2],shrink=.8)\n",
    "        \n",
    "        fig.supxlabel('ac_2')\n",
    "        fig.supylabel('ac_1')\n",
    "        plt.suptitle(title)\n",
    "        plt.tight_layout()\n",
    "        plt.show()\n",
    "\n",
    "    return det/mon"
   ]
  },
  {
   "cell_type": "code",
   "execution_count": null,
   "id": "8eeaeef6-19e8-4cfd-9231-9971ceccc2be",
   "metadata": {},
   "outputs": [],
   "source": [
    "def get_pol(fr):\n",
    "    \"\"\"Converts flipping ratio to polarization.\"\"\"\n",
    "    return (fr - 1)/(1 + fr)\n",
    "\n",
    "def get_scan(number):\n",
    "    \"\"\"Returns the data file scan number in Spice format.\"\"\"\n",
    "    const = 3\n",
    "    if (number > 999):    #no leading zeros\n",
    "        zeros = 0\n",
    "    else:\n",
    "        if (number == 0):\n",
    "            zeros = const\n",
    "        else:\n",
    "            zeros = const - int(math.floor(math.log10(number)))\n",
    "    return '0'*zeros + str(number)\n",
    "\n",
    "default_order = ['det','det rate','mon rate','ac_1','ac_2','up_1','down_1','arm_2','detector','monitor','time','nu_1','nu_2','nu_3',\\\n",
    "                'rots','trans','sgl','sgu','stl','stu','a1','a2','focal_length','m1','m2','mfocus','cav_trans','s1','s2',\\\n",
    "                'q','h','k','l','ei','ef','e','nu_1_current','ac_1_current','prism_current','nu_2_current','ac_2_current','nu_3_current']\n",
    "\n",
    "default_order = ['det','det rate','mon rate','ac_1','ac_2','up_1','down_1','up_2','down_2','detector','monitor','time',\\\n",
    "                'rots','trans','sgl','sgu','stl','stu','a1','a2','focal_length','m1','m2','mfocus','cav_trans','s1','s2',\\\n",
    "                'q','h','k','l','ei','ef','e','nu_1_current','ac_1_current','prism_current','nu_2_current','ac_2_current','nu_3_current']\n",
    "\n",
    "default_dict = {i[1]:i[0] for i in enumerate(default_order)}\n",
    "\n",
    "useful_order = default_order[:12]\n",
    "useful_dict = {i[1]:i[0] for i in enumerate(useful_order)}\n",
    "\n",
    "def load_data(path, names, dest, write_data=False,overwrite=False,reorder=False):\n",
    "    \"\"\"Returns the list [scan number, scan date, scan time start, user input scan titles, matrix of data from scan].\n",
    "    Cuts out all of the worthless parameters that we can't remove from SPICE for some reason.\"\"\"\n",
    "    scan_nums,dates,times,scan_titles,parms,data =[[],[],[],[],[],[]]\n",
    "    for i in range(len(names)):\n",
    "        file = open(path + names[i])\n",
    "        lines = file.readlines()\n",
    "        lines = [i.replace('\\n','') for i in lines]    #removes new line characters\n",
    "        file.close()\n",
    "        \n",
    "        scan_nums.append(lines[0][2::])    #line number determined by Spice format\n",
    "        scan_nums[i] = scan_nums[i].split(' = ',)[1]\n",
    "        dates.append(lines[1][2::])\n",
    "        dates[i] = dates[i].split(' = ',)[1]\n",
    "        times.append(lines[2][2::])\n",
    "        times[i] = times[i].split(' = ',)[1]\n",
    "        scan_titles.append(lines[10][2::])\n",
    "        scan_titles[i] = scan_titles[i].split(' = ',)[1]\n",
    "        parms.append(lines[29][7::].split())\n",
    "        parms[i].append('det rate')\n",
    "        parms[i].append('mon rate')\n",
    "        data.append([j.split()[1::] for j in lines[30::] if (j[0] != '#')])    #assigns the data\n",
    "        data[i] = [[float(data[i][j][k]) for j in range(len(data[i]))] for k in range(len(data[i][0]))]#HERE'S THE BUG    #converts to float\n",
    "        data[i] = [list(j) for j in zip(*data[i])]    #transposes table\n",
    "        \n",
    "        time_normed_counts = [data[i][j][2]/data[i][j][1] if (data[i][j][1] != 0) else 0 for j in range(len((data[i])))]\n",
    "        for j in range(len(data[i])):\n",
    "            data[i][j].append(time_normed_counts[j])\n",
    "            \n",
    "        time_normed_counts2 = [data[i][j][3]/data[i][j][1] if (data[i][j][1] != 0) else 0 for j in range(len((data[i])))]\n",
    "        for j in range(len(data[i])):\n",
    "            data[i][j].append(time_normed_counts2[j])\n",
    "        \n",
    "        if (reorder and (parms[i] != default_order)):    #rearranges the columns to default_order\n",
    "            swap_i = []    #columns to swap\n",
    "            for j in range(len(parms[i])):\n",
    "                swap_i.append([j, default_dict[parms[i][j]]])\n",
    "\n",
    "            swaped_data = [ [0]*len(data[i][0]) for _ in range(len(data[i]))]    #matrix to hold swaped values\n",
    "            for j in range(len(data[i])):    #slow swapping method, may need some work...\n",
    "                for k in range(len(data[i][j])):\n",
    "                    for m in range(len(swap_i)):\n",
    "                        if (swap_i[m][1] == k):\n",
    "                            swaped_data[j][k] = data[i][j][m]\n",
    "                            parms[i][m] = default_order[swap_i[m][0]]    \n",
    "            data[i] = swaped_data\n",
    "            \n",
    "        #useful parameters are hardcoded here\n",
    "        data_out = np.array(data)[:,:,:12]\n",
    "        parms_out = parms[0][:12]\n",
    "        \n",
    "        if write_data:    #writes data to csv files\n",
    "            if overwrite: c_str = 'w'\n",
    "            else: c_str = 'x'    #Fails if the file already exists\n",
    "            \n",
    "            windows_fname = scan_titles[i]    #Cleans the Spice file names for Windows\n",
    "            invalid = '<>:\"/\\|?*'\n",
    "            for char in invalid:\n",
    "                windows_fname = windows_fname.replace(char,'')\n",
    "                \n",
    "            with open(dest_path + \"scan\" + str(scan_nums[i]) + \"_\" + windows_fname + \".csv\", c_str, newline='') as csv_file:\n",
    "                writer = csv.writer(csv_file)\n",
    "                writer.writerow([scan_titles[i]])\n",
    "                writer.writerow([dates[i]])\n",
    "                writer.writerow([times[i]])\n",
    "                writer.writerow(parms_out)\n",
    "                for j in range(len(data_out[i])):\n",
    "                    writer.writerow(data_out[i][j])\n",
    "                    \n",
    "    return scan_nums,dates,times,scan_titles,parms_out,data_out\n",
    "\n",
    "data_path = \"C://Users//samck//Desktop//SESANS_OAM_data//Datafiles\"\n",
    "dest_path = \"C://Users//samck//Desktop//SESANS_OAM_data//data_csv//\""
   ]
  },
  {
   "cell_type": "code",
   "execution_count": null,
   "id": "264a23eb-8608-40be-8aac-9b403458ed6d",
   "metadata": {},
   "outputs": [],
   "source": [
    "file_range = range(204,446)\n",
    "file_list = [\"/HB2D_exp0005_scan\" + get_scan(i) + \".dat\" for i in file_range]\n",
    "\n",
    "nums,*_,parms,data = load_data(data_path,file_list,dest_path,write_data=True,overwrite=True,reorder=True)"
   ]
  },
  {
   "cell_type": "markdown",
   "id": "77d9e7d8-1bb7-4cd5-be08-708d29220f0c",
   "metadata": {
    "jp-MarkdownHeadingCollapsed": true,
    "tags": []
   },
   "source": [
    "### MWP 1 amp:"
   ]
  },
  {
   "cell_type": "code",
   "execution_count": null,
   "id": "91cdde6b-f9fa-4896-bdeb-7635848a59e8",
   "metadata": {
    "tags": []
   },
   "outputs": [],
   "source": [
    "p1_in = data[11:22:,:,2]\n",
    "p1_out = data[:11:,:,1]\n",
    "\n",
    "_ = get_tr(p1_in,p1_out)"
   ]
  },
  {
   "cell_type": "markdown",
   "id": "9d5cfe52-6958-4674-b7be-ef641cbb1a96",
   "metadata": {
    "jp-MarkdownHeadingCollapsed": true,
    "tags": []
   },
   "source": [
    "### MWP 3 amps:"
   ]
  },
  {
   "cell_type": "code",
   "execution_count": null,
   "id": "f975bbb1-2219-431b-a907-aaa8cf1df09b",
   "metadata": {
    "tags": []
   },
   "outputs": [],
   "source": [
    "p3_in = data[33:44:,:,2]\n",
    "p3_out = data[22:33:,:,1]\n",
    "\n",
    "_ = get_tr(p3_in,p3_out)"
   ]
  },
  {
   "cell_type": "markdown",
   "id": "96fdb231-88b2-45a2-be74-ac47ddc89e7c",
   "metadata": {
    "jp-MarkdownHeadingCollapsed": true,
    "tags": []
   },
   "source": [
    "### MWP 5 amps:"
   ]
  },
  {
   "cell_type": "code",
   "execution_count": null,
   "id": "edddb0ce-ee44-440c-9c00-ac6e27491049",
   "metadata": {
    "tags": []
   },
   "outputs": [],
   "source": [
    "p5_in = data[55:66:,:,2]\n",
    "p5_out = data[44:55:,:,1]\n",
    "\n",
    "_ = get_tr(p5_in,p5_out)"
   ]
  },
  {
   "cell_type": "markdown",
   "id": "5cb0a726-81cb-4ce0-ae65-91c9fed8bc03",
   "metadata": {
    "jp-MarkdownHeadingCollapsed": true,
    "tags": []
   },
   "source": [
    "### MWP 7 amps"
   ]
  },
  {
   "cell_type": "code",
   "execution_count": null,
   "id": "84d19647-c983-43e5-88ec-5e25ee80984f",
   "metadata": {
    "tags": []
   },
   "outputs": [],
   "source": [
    "p7_in = data[77:88:,:,2]\n",
    "p7_out = data[66:77:,:,1]\n",
    "\n",
    "_ = get_tr(p7_in,p7_out)"
   ]
  },
  {
   "cell_type": "markdown",
   "id": "960c98c5-9fc1-4c98-988d-99fbcbe5c15e",
   "metadata": {
    "jp-MarkdownHeadingCollapsed": true,
    "tags": []
   },
   "source": [
    "### MWP 9 amps"
   ]
  },
  {
   "cell_type": "code",
   "execution_count": null,
   "id": "80977671-2ed3-4736-9801-b8b38d25caf2",
   "metadata": {
    "tags": []
   },
   "outputs": [],
   "source": [
    "p9_in = np.sum([data[99+22*i:110+22*i:,:,2] for i in range(4)],axis=0)\n",
    "p9_out = np.sum([data[88+22*i:99+22*i:,:,1] for i in range(4)],axis=0)\n",
    "_ = get_tr(p9_in,p9_out)"
   ]
  },
  {
   "cell_type": "markdown",
   "id": "6295da98-36cc-41a7-80ee-e8a8641cd666",
   "metadata": {
    "jp-MarkdownHeadingCollapsed": true,
    "tags": []
   },
   "source": [
    "### MWP 10 amps:"
   ]
  },
  {
   "cell_type": "code",
   "execution_count": null,
   "id": "32ec058c-21e8-4142-8da9-260387f041a7",
   "metadata": {},
   "outputs": [],
   "source": [
    "p10_in = data[176:187:,:,2]\n",
    "p10_out = data[187:198:,:,1]\n",
    "_ = get_tr(p10_in,p10_out)"
   ]
  },
  {
   "cell_type": "code",
   "execution_count": null,
   "id": "b174011c-bb03-42db-a25d-e16d0dc3df76",
   "metadata": {},
   "outputs": [],
   "source": [
    "print(nums[198])"
   ]
  },
  {
   "cell_type": "markdown",
   "id": "9f41ef54-9a90-448e-9de2-534f464c5834",
   "metadata": {
    "jp-MarkdownHeadingCollapsed": true,
    "tags": []
   },
   "source": [
    "### MWP 12 amps:"
   ]
  },
  {
   "cell_type": "code",
   "execution_count": null,
   "id": "c9a44269-0c29-4773-bad6-6b72350b538c",
   "metadata": {},
   "outputs": [],
   "source": [
    "p12_in = data[198:209:,:,2]\n",
    "p12_out = data[209:198:,:,1]\n",
    "_ = get_tr(p12_in,p12_out)"
   ]
  },
  {
   "cell_type": "markdown",
   "id": "4c201448-1043-48ae-9286-b6730adbe39a",
   "metadata": {
    "jp-MarkdownHeadingCollapsed": true,
    "tags": []
   },
   "source": [
    "### 7/20: Rotated nutator_2:"
   ]
  },
  {
   "cell_type": "code",
   "execution_count": null,
   "id": "d95fe3a6-d739-49c3-96e7-de6190395dc3",
   "metadata": {},
   "outputs": [],
   "source": [
    "test_in = data[231:242:,:,2] \n",
    "test_out = data[220:231:,:,1]\n",
    "_ = get_tr(test_in,test_out)"
   ]
  },
  {
   "cell_type": "markdown",
   "id": "e41fcfd7-be8d-47da-8586-1493f74d7410",
   "metadata": {
    "jp-MarkdownHeadingCollapsed": true,
    "tags": []
   },
   "source": [
    "### 7/20 Overnight scan\n",
    "***"
   ]
  },
  {
   "cell_type": "markdown",
   "id": "e2e78f66-4106-4e79-ba3a-242116cbc60c",
   "metadata": {},
   "source": [
    "Went from a 25 by 25 mm slit to a 14 by 10 mm slit, rotated nu_2 by 90 degrees, and extended the accelerator coils to a 2 rotation range."
   ]
  },
  {
   "cell_type": "code",
   "execution_count": null,
   "id": "d66eaf13-6b72-4e37-994d-7e28fb9a1fa2",
   "metadata": {},
   "outputs": [],
   "source": [
    "file_range = range(446,572)\n",
    "file_list = [\"/HB2D_exp0005_scan\" + get_scan(i) + \".dat\" for i in file_range]\n",
    "\n",
    "nums,*_,parms,data = load_data(data_path,file_list,dest_path,write_data=True,overwrite=True,reorder=True)"
   ]
  },
  {
   "cell_type": "markdown",
   "id": "b539169f-70be-4acc-8311-14d51249ece2",
   "metadata": {},
   "source": [
    "#### MWP 1 amp"
   ]
  },
  {
   "cell_type": "code",
   "execution_count": null,
   "id": "af2d21d9-cf6b-465e-8de9-459a1efe5c9a",
   "metadata": {},
   "outputs": [],
   "source": [
    "start = 0\n",
    "p1_out = data[start+21:start+42:,:,1]\n",
    "p1_in = data[start:start+21:,:,2]\n",
    "_ = get_tr(p1_in,p1_out,title='MWP 1 amp')\n",
    "print(nums[start:start+42])"
   ]
  },
  {
   "cell_type": "code",
   "execution_count": null,
   "id": "92a8ef8e-62ed-400e-b951-4fa6fc9ffbd1",
   "metadata": {},
   "outputs": [],
   "source": [
    "start = 42\n",
    "p3_out = data[start+21:start+42:,:,1]\n",
    "p3_in = data[start:start+21:,:,2]\n",
    "_ = get_tr(p3_in,p3_out,title='MWP 3 amp')\n",
    "print(nums[start:start+42])"
   ]
  },
  {
   "cell_type": "code",
   "execution_count": null,
   "id": "97d054ff-4d46-45e1-91af-bbd15ff7db20",
   "metadata": {},
   "outputs": [],
   "source": [
    "start = 84\n",
    "p3_out = data[start+21:start+42:,:,1]\n",
    "p3_in = data[start:start+21:,:,2]\n",
    "_ = get_tr(p3_in,p3_out,title='MWP 5 amp')\n",
    "print(nums[start:start+42])"
   ]
  },
  {
   "cell_type": "code",
   "execution_count": null,
   "id": "a86d0321-b918-4f41-b575-0f002b9049f0",
   "metadata": {},
   "outputs": [],
   "source": []
  },
  {
   "cell_type": "markdown",
   "id": "4cf13cc1-6ea4-4d4b-9b12-be2e5b4503d9",
   "metadata": {
    "jp-MarkdownHeadingCollapsed": true,
    "tags": []
   },
   "source": [
    "### 7/22 Mega test with offset currents"
   ]
  },
  {
   "cell_type": "code",
   "execution_count": null,
   "id": "bda36eb3-181d-400e-8939-7fb208d463e1",
   "metadata": {},
   "outputs": [],
   "source": [
    "file_range = range(911,995)\n",
    "file_list = [\"/HB2D_exp0005_scan\" + get_scan(i) + \".dat\" for i in file_range]\n",
    "\n",
    "nums,*_,parms,data = load_data(data_path,file_list,dest_path,write_data=True,overwrite=True,reorder=True)"
   ]
  },
  {
   "cell_type": "code",
   "execution_count": null,
   "id": "2933dcdb-f1da-4d80-8493-58a603b0348e",
   "metadata": {},
   "outputs": [],
   "source": [
    "start = 0\n",
    "p_out = data[start+21:start+42:,:,1]\n",
    "p_in = data[start:start+21:,:,2]\n",
    "_ = get_tr(p_in,p_out,title='MWP 1/1.5 amp')\n",
    "print(nums[start:start+42])"
   ]
  },
  {
   "cell_type": "code",
   "execution_count": null,
   "id": "0692cc81-679d-4edd-aca2-dd1c5ccd0573",
   "metadata": {},
   "outputs": [],
   "source": [
    "start = 42\n",
    "p_out = data[start+21:start+42:,:,1]\n",
    "p_in = data[start:start+21:,:,2]\n",
    "_ = get_tr(p_in,p_out,title='MWP 2/2.5 amp')\n",
    "print(nums[start:start+42])"
   ]
  },
  {
   "cell_type": "code",
   "execution_count": null,
   "id": "957aee8e-0299-4b0a-80d7-efbf9aa05d7f",
   "metadata": {},
   "outputs": [],
   "source": []
  },
  {
   "cell_type": "markdown",
   "id": "0c19242e-7ffd-4313-a8b2-7c527c8d403c",
   "metadata": {
    "jp-MarkdownHeadingCollapsed": true,
    "tags": []
   },
   "source": [
    "### 7/23 Mega test 2 after warming up"
   ]
  },
  {
   "cell_type": "code",
   "execution_count": null,
   "id": "fd1038ed-5ca6-4486-bb6f-54918a7d7c3b",
   "metadata": {},
   "outputs": [],
   "source": [
    "file_range = range(1025,1107)\n",
    "file_list = [\"/HB2D_exp0005_scan\" + get_scan(i) + \".dat\" for i in file_range]\n",
    "\n",
    "nums,*_,parms,data = load_data(data_path,file_list,dest_path,write_data=True,overwrite=True,reorder=True)"
   ]
  },
  {
   "cell_type": "code",
   "execution_count": null,
   "id": "11660d53-85ba-463c-8d28-634d1a4b4ff0",
   "metadata": {},
   "outputs": [],
   "source": [
    "start = 0\n",
    "p_out = data[start+16:start+32:,:,1]\n",
    "p_in = data[start:start+16:,:,2]\n",
    "_ = get_tr(p_in,p_out,title='MWP 1/1.5 amp',ac_range=[-8.5,-1,-8.5,-1])\n",
    "print(nums[start:start+32])"
   ]
  },
  {
   "cell_type": "code",
   "execution_count": null,
   "id": "e33b4e9f-8469-4124-97bd-47f6add975ea",
   "metadata": {},
   "outputs": [],
   "source": [
    "start = 32\n",
    "p_out = data[start+16:start+32:,:,1]\n",
    "p_in = data[start:start+16:,:,2]\n",
    "_ = get_tr(p_in,p_out,title='MWP 2/2.5 amp',ac_range=[-8.5,-1,-8.5,-1])\n",
    "print(nums[start:start+32])"
   ]
  },
  {
   "cell_type": "code",
   "execution_count": null,
   "id": "f7607509-b176-4163-8032-6bb64beeb795",
   "metadata": {},
   "outputs": [],
   "source": [
    "plt.plot(np.linspace(0,16*8,16),np.mean(_,axis=1)/.045)\n",
    "plt.title('Decay of 3He overnight')\n",
    "plt.ylabel('Average transmission')\n",
    "plt.xlabel('Minutes')\n",
    "plt.grid()\n",
    "plt.show()"
   ]
  },
  {
   "cell_type": "markdown",
   "id": "a733207c-43df-4192-8274-ce1aedeeddd6",
   "metadata": {},
   "source": [
    "### 7/26 New setup scans"
   ]
  },
  {
   "cell_type": "code",
   "execution_count": null,
   "id": "1daf3f9f-f9a2-4685-b63a-df66589b0966",
   "metadata": {},
   "outputs": [],
   "source": []
  },
  {
   "cell_type": "code",
   "execution_count": null,
   "id": "4a971190-e99d-4a9c-bc4d-8bbea1f151e6",
   "metadata": {},
   "outputs": [],
   "source": []
  },
  {
   "cell_type": "code",
   "execution_count": null,
   "id": "e800d641-4ba1-4e44-a5e9-fb5cb3865d07",
   "metadata": {},
   "outputs": [],
   "source": []
  },
  {
   "cell_type": "code",
   "execution_count": null,
   "id": "c254c9f6-c0a0-4f79-b0a0-88ea171fc850",
   "metadata": {},
   "outputs": [],
   "source": []
  }
 ],
 "metadata": {
  "kernelspec": {
   "display_name": "Python 3 (ipykernel)",
   "language": "python",
   "name": "python3"
  },
  "language_info": {
   "codemirror_mode": {
    "name": "ipython",
    "version": 3
   },
   "file_extension": ".py",
   "mimetype": "text/x-python",
   "name": "python",
   "nbconvert_exporter": "python",
   "pygments_lexer": "ipython3",
   "version": "3.10.7"
  }
 },
 "nbformat": 4,
 "nbformat_minor": 5
}
